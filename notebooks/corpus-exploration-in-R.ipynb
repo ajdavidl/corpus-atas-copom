{
 "cells": [
  {
   "cell_type": "code",
   "execution_count": null,
   "id": "8823a7b7-0964-422e-9ed1-f5fc7bec9357",
   "metadata": {},
   "outputs": [],
   "source": [
    "library(dplyr)\n",
    "library(tidytext)\n",
    "library(tokenizers)\n",
    "library(tidyr)\n",
    "library(ggplot2)\n",
    "library(tm)\n",
    "library(wordcloud)"
   ]
  },
  {
   "cell_type": "code",
   "execution_count": null,
   "id": "09bdfba6-a3d6-46d0-a510-d9e6ec26e118",
   "metadata": {},
   "outputs": [],
   "source": [
    "listAtas <- list.files(path=\"../atas\", pattern=\".txt\", all.files=TRUE, full.names=TRUE)\n",
    "\n",
    "print(paste(length(listAtas),\"atas\"))"
   ]
  },
  {
   "cell_type": "code",
   "execution_count": null,
   "id": "97f8bc8c-1469-4c69-94cc-7e53c142e4dd",
   "metadata": {},
   "outputs": [],
   "source": [
    "corpus <- c()\n",
    "for(ata in listAtas){\n",
    "    lines <- readLines(con = ata, encoding = \"UTF-8\")\n",
    "    lines <- paste(lines, collapse = \" \")\n",
    "    corpus <- c(corpus,lines)\n",
    "}\n",
    "print(paste(length(corpus),\"atas\"))"
   ]
  },
  {
   "cell_type": "markdown",
   "id": "f3100bad-2c62-4965-b969-c5a52878341a",
   "metadata": {},
   "source": [
    "# Corpus Characteristics "
   ]
  },
  {
   "cell_type": "code",
   "execution_count": null,
   "id": "67c01d9b-0fae-45f5-88e3-9df2361fa686",
   "metadata": {},
   "outputs": [],
   "source": [
    "corpusJoined <- paste(corpus, collapse = ' ')\n",
    "corpusJoinedWithoutPunctuation <- tm::removePunctuation(corpusJoined)\n",
    "corpusWordTokenized <- tokenizers::tokenize_words(corpusJoined, simplify = TRUE)\n",
    "corpusWordTokenizedWithoutPunctuation <- tokenizers::tokenize_words(corpusJoinedWithoutPunctuation, simplify = TRUE)\n",
    "corpusJoinedWithoutSpaces <- gsub(pattern = \" \", replacement = \"\", x = corpusJoined)\n",
    "corpusSentences <- tokenizers::tokenize_sentences(corpusJoined,simplify = TRUE)"
   ]
  },
  {
   "cell_type": "code",
   "execution_count": null,
   "id": "eae242bd-d238-4212-8b31-a5bf31bbd5bc",
   "metadata": {},
   "outputs": [],
   "source": [
    "print(paste0(\"Number of characters with spaces: \", nchar(corpusJoined)))\n",
    "print(paste0(\"Number of characters without spaces: \", nchar(corpusJoinedWithoutSpaces)))\n",
    "print(paste0(\"Number of words: \",length(corpusWordTokenizedWithoutPunctuation)))\n",
    "print(paste0(\"Number of sentences: \", length(corpusSentences)))\n",
    "print(paste0(\"Number of characters per words: \", nchar(corpusJoinedWithoutSpaces)/length(corpusWordTokenizedWithoutPunctuation)))\n",
    "print(paste0(\"Number of words per sentence: \", length(corpusWordTokenizedWithoutPunctuation)/length(corpusSentences)))"
   ]
  },
  {
   "cell_type": "markdown",
   "id": "fe8e68ba-ffd4-4702-8f86-2bcd17564287",
   "metadata": {},
   "source": [
    "# Frequencies "
   ]
  },
  {
   "cell_type": "code",
   "execution_count": null,
   "id": "8e0b42d8-eb75-4bf0-9cc9-19a8d02ba4cc",
   "metadata": {},
   "outputs": [],
   "source": [
    "df <- data.frame(sentence = corpus, stringsAsFactors = FALSE)"
   ]
  },
  {
   "cell_type": "code",
   "execution_count": null,
   "id": "15630d20-90d9-4e47-83a0-578c9de2e3a8",
   "metadata": {},
   "outputs": [],
   "source": [
    "Mystopwords <- c('ainda','ante','p','r','sobre', 'janeiro','fevereiro','março','abril','maio','junho','julho','agosto','setembro','outubro','novembro','dezembro','mês','meses','ano','anos', as.character(0:9),tm::stopwords('pt'))\n"
   ]
  },
  {
   "cell_type": "markdown",
   "id": "e5a20831-18a5-4b13-bf05-e21bad8245df",
   "metadata": {},
   "source": [
    "## Character frequency "
   ]
  },
  {
   "cell_type": "code",
   "execution_count": null,
   "id": "22f36637-e14d-479a-bd79-98a591f3a194",
   "metadata": {},
   "outputs": [],
   "source": [
    "charFreq <- df %>%\n",
    "  unnest_tokens(character, sentence, token = \"characters\") %>%\n",
    "  count(character, sort = TRUE) %>%\n",
    "  ungroup()"
   ]
  },
  {
   "cell_type": "code",
   "execution_count": null,
   "id": "b1b2a3ce-0ce2-4c02-8917-e926ad5f1bc3",
   "metadata": {},
   "outputs": [],
   "source": [
    "number_of_chars <- 20\n",
    "charFreq[1:number_of_chars,]"
   ]
  },
  {
   "cell_type": "code",
   "execution_count": null,
   "id": "d2d261ad-3255-45d0-912e-0e45ec3fe6b1",
   "metadata": {},
   "outputs": [],
   "source": [
    "ggplot(charFreq[1:number_of_chars,],aes(x = reorder(character,n), n)) +\n",
    "  geom_bar(stat=\"identity\") +\n",
    "  theme(axis.text.x=element_text(angle=45, hjust=1)) +\n",
    "  ylab(\"Frequency\") + xlab(\"characters\") + ggtitle(\"Characters frequencies\") +\n",
    "  theme_bw() +\n",
    "  coord_flip()"
   ]
  },
  {
   "cell_type": "markdown",
   "id": "ee26074d-ec20-4ff8-b115-0945c54d9a5a",
   "metadata": {},
   "source": [
    "## Word Frequency"
   ]
  },
  {
   "cell_type": "code",
   "execution_count": null,
   "id": "710cdb71-310a-43a7-951c-0fb6ef570ada",
   "metadata": {},
   "outputs": [],
   "source": [
    "numberOfWords <- 20"
   ]
  },
  {
   "cell_type": "markdown",
   "id": "24632474-0a4a-4810-a6c4-5c64c9d35b2a",
   "metadata": {},
   "source": [
    "### With stop words"
   ]
  },
  {
   "cell_type": "code",
   "execution_count": null,
   "id": "27a58b64-f7e8-4a33-b283-afdf1b97e9cf",
   "metadata": {},
   "outputs": [],
   "source": [
    "wordsFreq <- df %>%\n",
    "  unnest_tokens(word, sentence) %>%\n",
    "  count(word, sort = TRUE) %>%\n",
    "  ungroup()"
   ]
  },
  {
   "cell_type": "code",
   "execution_count": null,
   "id": "a404df30-1191-401e-9594-41df9f16133a",
   "metadata": {},
   "outputs": [],
   "source": [
    "wordsFreq[1:numberOfWords,]"
   ]
  },
  {
   "cell_type": "code",
   "execution_count": null,
   "id": "7612a6a6-fe16-404b-8d25-dc5bc45342c6",
   "metadata": {},
   "outputs": [],
   "source": [
    "ggplot(wordsFreq[1:numberOfWords,],aes(x = reorder(word,n), n)) +\n",
    "  geom_bar(stat=\"identity\") +\n",
    "  theme(axis.text.x=element_text(angle=45, hjust=1)) +\n",
    "  ylab(\"Frequency\") + xlab(\"words\") + ggtitle(\"Word frequencies with stop words\") +\n",
    "  theme_bw() +  \n",
    "  coord_flip()"
   ]
  },
  {
   "cell_type": "markdown",
   "id": "6f67dcb0-a9a6-43c8-8383-4695f0384236",
   "metadata": {},
   "source": [
    "### Wordcloud with stop words"
   ]
  },
  {
   "cell_type": "code",
   "execution_count": null,
   "id": "2c59b029-e573-4bd5-be2f-989dc22d947d",
   "metadata": {},
   "outputs": [],
   "source": [
    "wordcloud(words = wordsFreq$word,freq = wordsFreq$n, min.freq = 1000, random.order=FALSE, max.words=1000, rot.per=0, colors=brewer.pal(6, \"Dark2\"),scale = c(5, 1.2))"
   ]
  },
  {
   "cell_type": "markdown",
   "id": "7515fb0d-a0ee-4c28-8912-a56c51e35880",
   "metadata": {},
   "source": [
    "### Without stop words"
   ]
  },
  {
   "cell_type": "code",
   "execution_count": null,
   "id": "9c902cd2-52b0-4e32-8e2a-27f199a824f5",
   "metadata": {},
   "outputs": [],
   "source": [
    "wordsFreq2 <- wordsFreq %>%\n",
    "  filter(!word %in% Mystopwords)"
   ]
  },
  {
   "cell_type": "code",
   "execution_count": null,
   "id": "1e277f6b-9d4b-48a0-b279-971890c036e9",
   "metadata": {},
   "outputs": [],
   "source": [
    "wordsFreq2[1:numberOfWords,]"
   ]
  },
  {
   "cell_type": "code",
   "execution_count": null,
   "id": "2c4c3396-ae34-4207-9741-e2013c9e1a7a",
   "metadata": {},
   "outputs": [],
   "source": [
    "ggplot(wordsFreq2[1:numberOfWords,],aes(x = reorder(word,n), n)) +\n",
    "  geom_bar(stat=\"identity\") +\n",
    "  theme(axis.text.x=element_text(angle=45, hjust=1)) +\n",
    "  ylab(\"Frequency\") + xlab(\"words\") + ggtitle(\"Word frequencies without stop words\") +\n",
    "  theme_bw() +\n",
    "  coord_flip()"
   ]
  },
  {
   "cell_type": "markdown",
   "id": "5e64e167-2ba8-473a-b988-7c676d18ce17",
   "metadata": {},
   "source": [
    "### Wordcloud without stop words"
   ]
  },
  {
   "cell_type": "code",
   "execution_count": null,
   "id": "ad310410-4fda-4be1-858b-a3753a97db0a",
   "metadata": {},
   "outputs": [],
   "source": [
    "wordcloud(words = wordsFreq2$word,freq = wordsFreq2$n, min.freq = 1000, random.order=FALSE, max.words=1000, rot.per=0, colors=brewer.pal(6, \"Dark2\"),scale = c(4, 0.8))"
   ]
  },
  {
   "cell_type": "markdown",
   "id": "b164715b-5b00-42f6-84e8-4b48c076fb96",
   "metadata": {},
   "source": [
    "## Bigram Frequency\n",
    " "
   ]
  },
  {
   "cell_type": "code",
   "execution_count": null,
   "id": "643644a4-8e48-4c01-9ae1-f9cd772f005b",
   "metadata": {},
   "outputs": [],
   "source": [
    "numberOfBigram <- 20"
   ]
  },
  {
   "cell_type": "markdown",
   "id": "d0001bcc-487c-4082-9bf6-f648fcb9c28b",
   "metadata": {},
   "source": [
    "### With stop words"
   ]
  },
  {
   "cell_type": "code",
   "execution_count": null,
   "id": "09ce82ee-f7a0-4736-965e-7ce369ef38f5",
   "metadata": {},
   "outputs": [],
   "source": [
    "bigramFreq <- df %>%\n",
    "  unnest_tokens(word, sentence, token = \"ngrams\", n = 2) %>%\n",
    "  count(word, sort = TRUE) %>%\n",
    "  ungroup()"
   ]
  },
  {
   "cell_type": "code",
   "execution_count": null,
   "id": "eb90f3ca-b6e7-4ac1-9174-f44ad3aa385b",
   "metadata": {},
   "outputs": [],
   "source": [
    "bigramFreq[1:numberOfBigram,]"
   ]
  },
  {
   "cell_type": "code",
   "execution_count": null,
   "id": "a46721ad-4903-44d6-8940-7415cf5cc4c2",
   "metadata": {},
   "outputs": [],
   "source": [
    "ggplot(bigramFreq[1:numberOfBigram,],aes(x = reorder(word,n), n)) +\n",
    "  geom_bar(stat=\"identity\") +\n",
    "  theme(axis.text.x=element_text(angle=45, hjust=1)) +\n",
    "  ylab(\"Frequency\") + xlab(\"bigrams\") + ggtitle(\"Bigram frequencies with stop words\") +\n",
    "  theme_bw() +\n",
    "  coord_flip()"
   ]
  },
  {
   "cell_type": "markdown",
   "id": "d081e50b-b693-44d7-a284-b1568c88ce5a",
   "metadata": {},
   "source": [
    "### bigram cloud with stop words"
   ]
  },
  {
   "cell_type": "code",
   "execution_count": null,
   "id": "afb2566a-a060-4a38-914c-82bd86b487de",
   "metadata": {},
   "outputs": [],
   "source": [
    "wordcloud(words = bigramFreq$word,freq = bigramFreq$n, min.freq = 1000, random.order=FALSE, max.words=1000, rot.per=0, colors=brewer.pal(6, \"Dark2\"),scale = c(3.8, 0.6))"
   ]
  },
  {
   "cell_type": "markdown",
   "id": "9e3ba2dd-b0b9-4c21-be8b-91abace7c03f",
   "metadata": {},
   "source": [
    "### Without stopwords"
   ]
  },
  {
   "cell_type": "code",
   "execution_count": null,
   "id": "ab364631-e198-4360-9180-05554b47b48e",
   "metadata": {},
   "outputs": [],
   "source": [
    "bigramFreq2 <- bigramFreq %>% select(word,n) %>% \n",
    "  separate(word, c(\"word1\", \"word2\"), sep = \" \")\n",
    "\n",
    "bigramFreq2 <- bigramFreq2 %>%\n",
    "  filter(!word1 %in% Mystopwords) %>%\n",
    "  filter(!word2 %in% Mystopwords)\n",
    "\n",
    "bigramFreq2 <- bigramFreq2 %>% select(word1, word2, n) %>% \n",
    "  unite(word, word1, word2, sep = \" \")"
   ]
  },
  {
   "cell_type": "code",
   "execution_count": null,
   "id": "8823941b-0ad2-4d0a-901b-034a500b7696",
   "metadata": {},
   "outputs": [],
   "source": [
    "bigramFreq2[1:numberOfBigram,]"
   ]
  },
  {
   "cell_type": "code",
   "execution_count": null,
   "id": "dda364c4-ae25-4ac8-a10b-c804663e9c3e",
   "metadata": {},
   "outputs": [],
   "source": [
    "ggplot(bigramFreq2[1:numberOfBigram,],aes(x = reorder(word,n), n)) +\n",
    "  geom_bar(stat=\"identity\") +\n",
    "  theme(axis.text.x=element_text(angle=45, hjust=1)) +\n",
    "  ylab(\"Frequency\") + xlab(\"bigrams\") + ggtitle(\"Bigram frequencies without stop words\") +\n",
    "  theme_bw() +\n",
    "  coord_flip()"
   ]
  },
  {
   "cell_type": "markdown",
   "id": "01cb5fb9-9d29-4265-b5b4-1f407d061230",
   "metadata": {},
   "source": [
    "### bigrams cloud without stop words"
   ]
  },
  {
   "cell_type": "code",
   "execution_count": null,
   "id": "46ba4869-e265-43ea-a8e7-b1068b984136",
   "metadata": {},
   "outputs": [],
   "source": [
    "wordcloud(words = bigramFreq2$word,freq = bigramFreq2$n, min.freq = 200, random.order=FALSE, max.words=500, rot.per=0, colors=brewer.pal(6, \"Dark2\"),scale = c(3, 0.5))"
   ]
  },
  {
   "cell_type": "markdown",
   "id": "ea5936f1-76a0-49b6-b12f-26d0a6eee817",
   "metadata": {},
   "source": [
    "## Trigram Frequency"
   ]
  },
  {
   "cell_type": "code",
   "execution_count": null,
   "id": "68aa7a47-3669-4734-aadf-76adae7bbca3",
   "metadata": {},
   "outputs": [],
   "source": [
    "numberOfTrigram <- 20"
   ]
  },
  {
   "cell_type": "markdown",
   "id": "51197316-6e97-4808-bd78-4d652526135c",
   "metadata": {},
   "source": [
    "### With stop words"
   ]
  },
  {
   "cell_type": "code",
   "execution_count": null,
   "id": "76cff463-0f0e-414b-9cec-8f01d0c0dbbb",
   "metadata": {},
   "outputs": [],
   "source": [
    "trigramFreq <- df %>%\n",
    "  unnest_tokens(word, sentence, token = \"ngrams\", n = 3) %>%\n",
    "  count(word, sort = TRUE) %>%\n",
    "  ungroup()"
   ]
  },
  {
   "cell_type": "code",
   "execution_count": null,
   "id": "426cabba-1ad9-478a-b9be-b9fc3a474aa9",
   "metadata": {},
   "outputs": [],
   "source": [
    "trigramFreq[1:numberOfTrigram,]"
   ]
  },
  {
   "cell_type": "code",
   "execution_count": null,
   "id": "d4bea01e-772b-46ff-af31-97e00f4588bb",
   "metadata": {},
   "outputs": [],
   "source": [
    "ggplot(trigramFreq[1:numberOfTrigram,],aes(x = reorder(word,n), n)) +\n",
    "  geom_bar(stat=\"identity\") +\n",
    "  theme(axis.text.x=element_text(angle=45, hjust=1)) +\n",
    "  ylab(\"Frequency\") + xlab(\"trigrams\") + ggtitle(\"Trigram frequencies with stop words\") +\n",
    "  theme_bw() +\n",
    "  coord_flip()"
   ]
  },
  {
   "cell_type": "markdown",
   "id": "ffd9db18-4cc6-434e-b1bc-a0c959461553",
   "metadata": {},
   "source": [
    "### Trigrams cloud with stop words"
   ]
  },
  {
   "cell_type": "code",
   "execution_count": null,
   "id": "ccd37e66-cba6-4ea0-9c07-7181a6d10bb9",
   "metadata": {},
   "outputs": [],
   "source": [
    "wordcloud(words = trigramFreq$word,freq = trigramFreq$n, min.freq = 100, random.order=FALSE, max.words=250, rot.per=0, colors=brewer.pal(6, \"Dark2\"),scale = c(2.5, 0.3))"
   ]
  },
  {
   "cell_type": "markdown",
   "id": "d6bce6e1-ca49-46e4-a733-ed4338d572d9",
   "metadata": {},
   "source": [
    "### Without stop words"
   ]
  },
  {
   "cell_type": "code",
   "execution_count": null,
   "id": "0773d36a-2e78-4cb1-a5b5-1ea5bf7aa4a1",
   "metadata": {},
   "outputs": [],
   "source": [
    "trigramFreq2 <- trigramFreq %>% select(word,n) %>% \n",
    "  separate(word, c(\"word1\", \"word2\", \"word3\"), sep = \" \")\n",
    "\n",
    "trigramFreq2 <- trigramFreq2 %>%\n",
    "  filter(!word1 %in% Mystopwords) %>%\n",
    "  filter(!word2 %in% Mystopwords) %>% \n",
    "  filter(!word3 %in% Mystopwords)\n",
    "\n",
    "trigramFreq2 <- trigramFreq2 %>% select(word1, word2, word3, n) %>% \n",
    "  unite(word, word1, word2, word3, sep = \" \")"
   ]
  },
  {
   "cell_type": "code",
   "execution_count": null,
   "id": "83e338e8-986c-40a3-9913-35e6b1c8d7f6",
   "metadata": {},
   "outputs": [],
   "source": [
    "trigramFreq2[1:numberOfTrigram,]"
   ]
  },
  {
   "cell_type": "code",
   "execution_count": null,
   "id": "d427a72e-e9fd-4c81-b4a5-dc6f3de11b25",
   "metadata": {},
   "outputs": [],
   "source": [
    "ggplot(trigramFreq2[1:numberOfTrigram,],aes(x = reorder(word,n), n)) +\n",
    "  geom_bar(stat=\"identity\") +\n",
    "  theme(axis.text.x=element_text(angle=45, hjust=1)) +\n",
    "  ylab(\"Frequency\") + xlab(\"trigrams\") + ggtitle(\"Trigram frequencies without stop words\") +\n",
    "  theme_bw() +\n",
    "  coord_flip()"
   ]
  },
  {
   "cell_type": "code",
   "execution_count": null,
   "id": "53edf9d4-3afa-4b98-87a1-8dfb10017aeb",
   "metadata": {},
   "outputs": [],
   "source": [
    "wordcloud(words = trigramFreq2$word,freq = trigramFreq2$n, min.freq = 50, random.order=FALSE, max.words=200, rot.per=0, colors=brewer.pal(6, \"Dark2\"),scale = c(2.3, 0.3))"
   ]
  },
  {
   "cell_type": "code",
   "execution_count": null,
   "id": "e98c5430-0d7a-46e6-b48f-499e482a30f8",
   "metadata": {},
   "outputs": [],
   "source": []
  }
 ],
 "metadata": {
  "kernelspec": {
   "display_name": "R",
   "language": "R",
   "name": "ir"
  },
  "language_info": {
   "codemirror_mode": "r",
   "file_extension": ".r",
   "mimetype": "text/x-r-source",
   "name": "R",
   "pygments_lexer": "r",
   "version": "4.2.1"
  }
 },
 "nbformat": 4,
 "nbformat_minor": 5
}
