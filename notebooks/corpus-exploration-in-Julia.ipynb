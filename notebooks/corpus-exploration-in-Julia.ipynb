{
 "cells": [
  {
   "cell_type": "code",
   "execution_count": 1,
   "id": "6f4a3876-fb68-42d7-a7a2-81924483cf3e",
   "metadata": {},
   "outputs": [
    {
     "name": "stdout",
     "output_type": "stream",
     "text": [
      "Julia version: 1.7.3\n"
     ]
    }
   ],
   "source": [
    "println(\"Julia version: \", VERSION)"
   ]
  },
  {
   "cell_type": "code",
   "execution_count": 2,
   "id": "0583f354-895d-46bc-938f-e1f91e7b0f5b",
   "metadata": {},
   "outputs": [],
   "source": [
    "using DataFrames\n",
    "using Plots\n",
    "using FreqTables\n",
    "using TextAnalysis\n",
    "using Languages"
   ]
  },
  {
   "cell_type": "code",
   "execution_count": 3,
   "id": "52cdc08a-6306-4e54-b79e-094b7e1a16de",
   "metadata": {},
   "outputs": [
    {
     "name": "stdout",
     "output_type": "stream",
     "text": [
      "Number of stopwords: 381\n"
     ]
    }
   ],
   "source": [
    "Mystopwords = [\"de\",  \"a\",  \"o\",  \"que\",  \"e\",  \"do\",  \"da\",  \"em\",  \"um\",  \"para\",  \"com\",  \"não\",  \"uma\",  \"os\",  \"no\",  \"se\",  \"na\", \n",
    "    \"por\",  \"mais\",  \"as\",  \"dos\",  \"como\",  \"mas\",  \"ao\",  \"ele\",  \"das\",  \"à\",  \"seu\",  \"sua\",  \"ou\",  \"quando\",  \"muito\",  \"nos\",  \"já\",  \n",
    "    \"eu\",  \"também\",  \"só\",  \"pelo\",  \"pela\",  \"até\",  \"isso\",  \"ela\",  \"entre\",  \"depois\",  \"sem\",  \"mesmo\",  \"aos\",  \"seus\",  \"quem\", \n",
    "    \"nas\",  \"me\",  \"esse\",  \"eles\",  \"você\",  \"essa\",  \"num\",  \"nem\",  \"suas\",  \"meu\",  \"às\",  \"minha\",  \"numa\",  \"pelos\",  \"elas\",  \"qual\", \n",
    "    \"nós\",  \"lhe\",  \"deles\",  \"essas\",  \"esses\",  \"pelas\",  \"este\",  \"dele\",  \"tu\",  \"te\",  \"vocês\",  \"vos\",  \"lhes\",  \"meus\",  \"minhas\", \n",
    "    \"teu\",  \"tua\",  \"teus\",  \"tuas\",  \"nosso\",  \"nossa\",  \"nossos\",  \"nossas\",  \"dela\",  \"delas\",  \"esta\",  \"estes\",  \"estas\",  \"aquele\", \n",
    "    \"aquela\",  \"aqueles\",  \"aquelas\",  \"isto\",  \"aquilo\",  \"estou\",  \"está\",  \"estamos\",  \"estão\",  \"estive\",  \"esteve\",  \"estivemos\", \n",
    "    \"estiveram\",  \"estava\",  \"estávamos\",  \"estavam\",  \"estivera\",  \"estivéramos\",  \"esteja\",  \"estejamos\",  \"estejam\",  \"estivesse\", \n",
    "    \"estivéssemos\",  \"estivessem\",  \"estiver\",  \"estivermos\",  \"estiverem\",  \"hei\",  \"há\",  \"havemos\",  \"hão\",  \"houve\",  \"houvemos\",  \n",
    "    \"houveram\",  \"houvera\",  \"houvéramos\",  \"haja\",  \"hajamos\",  \"hajam\",  \"houvesse\",  \"houvéssemos\",  \"houvessem\",  \"houver\", \n",
    "    \"houvermos\",  \"houverem\",  \"houverei\",  \"houverá\",  \"houveremos\",  \"houverão\",  \"houveria\",  \"houveríamos\",  \"houveriam\",  \"sou\",  \n",
    "    \"somos\",  \"são\",  \"era\",  \"éramos\",  \"eram\",  \"fui\",  \"foi\",  \"fomos\",  \"foram\",  \"fora\",  \"fôramos\",  \"seja\",  \"sejamos\",  \"sejam\", \n",
    "    \"fosse\",  \"fôssemos\",  \"fossem\",  \"for\",  \"formos\",  \"forem\",  \"serei\",  \"será\",  \"seremos\",  \"serão\",  \"seria\",  \"seríamos\",  \"seriam\", \n",
    "    \"tenho\",  \"tem\",  \"temos\",  \"tém\",  \"tinha\",  \"tínhamos\",  \"tinham\",  \"tive\",  \"teve\",  \"tivemos\",  \"tiveram\",  \"tivera\",  \"tivéramos\", \n",
    "    \"tenha\",  \"tenhamos\",  \"tenham\",  \"tivesse\",  \"tivéssemos\",  \"tivessem\",  \"tiver\",  \"tivermos\",  \"tiverem\",  \"terei\",  \"terá\",  \"teremos\",\n",
    "    \"terão\",  \"teria\",  \"teríamos\",  \"teriam\", \"sobre\",\"então\",\"onde\",\"pra\",\"vamos\",\"lá\",\"sim\",\"não\",\"bem\",\"tudo\",\"agora\",\"aqui\",\"é\",\"\\\\\\\\\",\n",
    "    \"acordar\",\"agora\",\"ainda\",\"aladi\",\"alegrar\",\"além\",\"antar\",\"ante\",\"anthero\",\"antonio\",\"apenas\",\"apesar\",\"apresentação\",\"aquém\",\"araújo\",\"cada\",\"capitar\",\"carioca\",\"carteiro\",\"contra\",\"corpus\",\"corrêa\",\"costa\",\"daquela\",\"demais\",\"diante\",\"edson\",\"entanto\",\"estar\",\"estevar\",\"então\",\"feltrim\",\"final\",\"finar\",\"geral\",\"içar\",\"ie\",\"intuito\",\n",
    "\"le\",\"luiz\",\"luzir\",\"mediante\",\"meirelles\",\"mercar\",\"moraes\",\"necessariamente\",\"neto\",\"of\",\"oficiar\",\"oliveira\",\"onde\",\"ora\",\"parir\",\"paulo\",\"pelar\",\"pesar\",\"pilar\",\"pois\",\"primo\",\"quadrar\",\"reinar\",\"res\",\"resinar\",\"reunião\",\"ser\",\"sob\",\"sobre\",\"somente\",\"sr\",\"tal\",\"tais\",\"tanto\",\"thomson\",\"tipo\",\"todo\",\"tony\",\"usecheque\",\"vasconcelos\",\n",
    "\"a\",\"b\",\"c\",\"d\",\"e\",\"f\",\"g\",\"h\",\"i\",\"j\",\"k\",\"l\",\"m\",\"n\",\"o\",\"p\",\"q\",\"r\",\"s\",\"t\",\"u\",\"v\",\"w\",\"x\",\"y\",\"z\",\n",
    "\"um\",\"dois\",\"três\",\"quatro\",\"cinco\",\"seis\",\"sete\",\"oito\",\"nove\",\"dez\",\"onze\",\"doze\",\"treze\",\"catorze\",\"quinze\",\"dezesseis\",\"dezessete\",\"dezoito\",\"dezenove\",\"vinte\",\n",
    "\"aquela\",\"aquelas\",\"aquele\",\"aqueles\",\"àquela\",\"àquelas\",\"daquele\",\"daqueles\",\"daquela\",\"daquelas\",\"naquele\",\"naqueles\",\"naquela\",\"naquelas\",\"neste\",\"nesta\",\"nestes\",\"nestas\",\"nisto\",\"nesse\",\"nessa\",\"nesses\",\"nessas\",\"nisso\",\n",
    "\"janeiro\",\"fevereiro\",\"março\",\"abril\",\"maio\",\"junho\",\"julho\",\"agosto\",\"setembro\",\"outubro\",\"novembro\",\"dezembro\",\"mês\",\"meses\",\"ano\",\"anos\"]\n",
    "\n",
    "println(\"Number of stopwords: \",length(Mystopwords))"
   ]
  },
  {
   "cell_type": "markdown",
   "id": "80439e29-774e-421f-abda-26bdf6542e17",
   "metadata": {},
   "source": [
    "Create a corpus"
   ]
  },
  {
   "cell_type": "code",
   "execution_count": 4,
   "id": "2288ed09-7c0a-41e6-95ff-d636344721fe",
   "metadata": {},
   "outputs": [
    {
     "name": "stdout",
     "output_type": "stream",
     "text": [
      "228 atas\n"
     ]
    }
   ],
   "source": [
    "listAtas = readdir(\"../atas\");\n",
    "corpus = []\n",
    "\n",
    "for i in 1:length(listAtas)\n",
    "    f = open(\"../atas/\" * listAtas[i])\n",
    "    txt = readlines(f)\n",
    "    push!(corpus,txt)\n",
    "end\n",
    "\n",
    "println(length(corpus), \" atas\" )"
   ]
  },
  {
   "cell_type": "code",
   "execution_count": 5,
   "id": "1d19800a-71c9-45bb-b2a4-bfac7eff0664",
   "metadata": {},
   "outputs": [
    {
     "data": {
      "text/plain": [
       "A Corpus with 228 documents:\n",
       " * 228 StringDocument's\n",
       " * 0 FileDocument's\n",
       " * 0 TokenDocument's\n",
       " * 0 NGramDocument's\n",
       "\n",
       "Corpus's lexicon contains 11485 tokens\n",
       "Corpus's index contains 11485 tokens"
      ]
     },
     "execution_count": 5,
     "metadata": {},
     "output_type": "execute_result"
    }
   ],
   "source": [
    "docs = []\n",
    "for i in 1:length(listAtas)\n",
    "    fd = FileDocument(\"../atas/\" * listAtas[i]);\n",
    "    language!(fd, Languages.Portuguese())\n",
    "    push!(docs,fd)\n",
    "end\n",
    "crps = Corpus(docs)\n",
    "standardize!(crps, StringDocument)\n",
    "remove_case!(crps)\n",
    "prepare!(crps, strip_numbers)\n",
    "prepare!(crps, strip_punctuation)\n",
    "update_lexicon!(crps)\n",
    "update_inverse_index!(crps)\n",
    "crps"
   ]
  },
  {
   "cell_type": "markdown",
   "id": "4044ca16-f802-4134-8c82-765679de4500",
   "metadata": {},
   "source": [
    "### char frequency\n"
   ]
  },
  {
   "cell_type": "code",
   "execution_count": 6,
   "id": "d9644639-53ef-4e85-92b8-ae610bb6632d",
   "metadata": {},
   "outputs": [],
   "source": [
    "dict_char = Dict{Char, Int}()\n",
    "for txt in corpus\n",
    "    for char in string(txt)\n",
    "        if haskey(dict_char, char)\n",
    "         dict_char[char] += 1\n",
    "      else\n",
    "         dict_char[char] = 1\n",
    "      end\n",
    "    end\n",
    "end\n"
   ]
  },
  {
   "cell_type": "code",
   "execution_count": 7,
   "id": "ad9d2951-3a07-42fc-b8bb-39b5cda83424",
   "metadata": {},
   "outputs": [
    {
     "data": {
      "text/html": [
       "<div class=\"data-frame\"><p>20 rows × 2 columns</p><table class=\"data-frame\"><thead><tr><th></th><th>Char</th><th>n</th></tr><tr><th></th><th title=\"Any\">Any</th><th title=\"Any\">Any</th></tr></thead><tbody><tr><th>1</th><td> </td><td>1206511</td></tr><tr><th>2</th><td>e</td><td>743528</td></tr><tr><th>3</th><td>a</td><td>659885</td></tr><tr><th>4</th><td>o</td><td>614063</td></tr><tr><th>5</th><td>s</td><td>443176</td></tr><tr><th>6</th><td>r</td><td>387184</td></tr><tr><th>7</th><td>i</td><td>371433</td></tr><tr><th>8</th><td>d</td><td>356968</td></tr><tr><th>9</th><td>n</td><td>318473</td></tr><tr><th>10</th><td>t</td><td>283849</td></tr><tr><th>11</th><td>m</td><td>271189</td></tr><tr><th>12</th><td>c</td><td>206390</td></tr><tr><th>13</th><td>u</td><td>169743</td></tr><tr><th>14</th><td>,</td><td>168706</td></tr><tr><th>15</th><td>p</td><td>160866</td></tr><tr><th>16</th><td>l</td><td>156896</td></tr><tr><th>17</th><td>v</td><td>84349</td></tr><tr><th>18</th><td>ç</td><td>74344</td></tr><tr><th>19</th><td>ã</td><td>60472</td></tr><tr><th>20</th><td>&quot;</td><td>57708</td></tr></tbody></table></div>"
      ],
      "text/latex": [
       "\\begin{tabular}{r|cc}\n",
       "\t& Char & n\\\\\n",
       "\t\\hline\n",
       "\t& Any & Any\\\\\n",
       "\t\\hline\n",
       "\t1 &   & 1206511 \\\\\n",
       "\t2 & e & 743528 \\\\\n",
       "\t3 & a & 659885 \\\\\n",
       "\t4 & o & 614063 \\\\\n",
       "\t5 & s & 443176 \\\\\n",
       "\t6 & r & 387184 \\\\\n",
       "\t7 & i & 371433 \\\\\n",
       "\t8 & d & 356968 \\\\\n",
       "\t9 & n & 318473 \\\\\n",
       "\t10 & t & 283849 \\\\\n",
       "\t11 & m & 271189 \\\\\n",
       "\t12 & c & 206390 \\\\\n",
       "\t13 & u & 169743 \\\\\n",
       "\t14 & , & 168706 \\\\\n",
       "\t15 & p & 160866 \\\\\n",
       "\t16 & l & 156896 \\\\\n",
       "\t17 & v & 84349 \\\\\n",
       "\t18 & ç & 74344 \\\\\n",
       "\t19 & ã & 60472 \\\\\n",
       "\t20 & \" & 57708 \\\\\n",
       "\\end{tabular}\n"
      ],
      "text/plain": [
       "\u001b[1m20×2 DataFrame\u001b[0m\n",
       "\u001b[1m Row \u001b[0m│\u001b[1m Char \u001b[0m\u001b[1m n       \u001b[0m\n",
       "\u001b[1m     \u001b[0m│\u001b[90m Any  \u001b[0m\u001b[90m Any     \u001b[0m\n",
       "─────┼───────────────\n",
       "   1 │       1206511\n",
       "   2 │ e     743528\n",
       "   3 │ a     659885\n",
       "   4 │ o     614063\n",
       "   5 │ s     443176\n",
       "   6 │ r     387184\n",
       "   7 │ i     371433\n",
       "   8 │ d     356968\n",
       "   9 │ n     318473\n",
       "  10 │ t     283849\n",
       "  11 │ m     271189\n",
       "  12 │ c     206390\n",
       "  13 │ u     169743\n",
       "  14 │ ,     168706\n",
       "  15 │ p     160866\n",
       "  16 │ l     156896\n",
       "  17 │ v     84349\n",
       "  18 │ ç     74344\n",
       "  19 │ ã     60472\n",
       "  20 │ \"     57708"
      ]
     },
     "execution_count": 7,
     "metadata": {},
     "output_type": "execute_result"
    }
   ],
   "source": [
    "chars = [];\n",
    "frequency = [];\n",
    "for (key, value) in dict_char\n",
    "    push!(chars,key)\n",
    "    push!(frequency,value)\n",
    "end\n",
    "char_df = DataFrame(Dict(\"Char\"=>chars, \"n\"=>frequency));\n",
    "sort!(char_df, [:n, :Char], rev=[true, false])\n",
    "char_df[1:20,:]"
   ]
  },
  {
   "cell_type": "markdown",
   "id": "ad302b8b-34e4-40bd-8b50-e4e9d50ecfb2",
   "metadata": {},
   "source": [
    "### word frequency"
   ]
  },
  {
   "cell_type": "markdown",
   "id": "0f7d7e05-e774-45fc-9478-f75baa8c8f13",
   "metadata": {},
   "source": [
    "#### with stop words"
   ]
  },
  {
   "cell_type": "code",
   "execution_count": 8,
   "id": "e869c3c5-d70b-4126-8ca6-76c7d109a41a",
   "metadata": {},
   "outputs": [
    {
     "data": {
      "text/html": [
       "<div class=\"data-frame\"><p>20 rows × 2 columns</p><table class=\"data-frame\"><thead><tr><th></th><th>Words</th><th>n</th></tr><tr><th></th><th title=\"Any\">Any</th><th title=\"Any\">Any</th></tr></thead><tbody><tr><th>1</th><td>de</td><td>93856</td></tr><tr><th>2</th><td>em</td><td>39290</td></tr><tr><th>3</th><td>a</td><td>39225</td></tr><tr><th>4</th><td>e</td><td>32037</td></tr><tr><th>5</th><td>o</td><td>27817</td></tr><tr><th>6</th><td>do</td><td>24770</td></tr><tr><th>7</th><td>da</td><td>21635</td></tr><tr><th>8</th><td>no</td><td>18765</td></tr><tr><th>9</th><td>para</td><td>17303</td></tr><tr><th>10</th><td>que</td><td>14345</td></tr><tr><th>11</th><td>com</td><td>11393</td></tr><tr><th>12</th><td>os</td><td>9843</td></tr><tr><th>13</th><td>as</td><td>9597</td></tr><tr><th>14</th><td>dos</td><td>9403</td></tr><tr><th>15</th><td>na</td><td>8355</td></tr><tr><th>16</th><td>preços</td><td>7942</td></tr><tr><th>17</th><td>ao</td><td>7687</td></tr><tr><th>18</th><td>inflação</td><td>7643</td></tr><tr><th>19</th><td>das</td><td>6999</td></tr><tr><th>20</th><td>meses</td><td>5654</td></tr></tbody></table></div>"
      ],
      "text/latex": [
       "\\begin{tabular}{r|cc}\n",
       "\t& Words & n\\\\\n",
       "\t\\hline\n",
       "\t& Any & Any\\\\\n",
       "\t\\hline\n",
       "\t1 & de & 93856 \\\\\n",
       "\t2 & em & 39290 \\\\\n",
       "\t3 & a & 39225 \\\\\n",
       "\t4 & e & 32037 \\\\\n",
       "\t5 & o & 27817 \\\\\n",
       "\t6 & do & 24770 \\\\\n",
       "\t7 & da & 21635 \\\\\n",
       "\t8 & no & 18765 \\\\\n",
       "\t9 & para & 17303 \\\\\n",
       "\t10 & que & 14345 \\\\\n",
       "\t11 & com & 11393 \\\\\n",
       "\t12 & os & 9843 \\\\\n",
       "\t13 & as & 9597 \\\\\n",
       "\t14 & dos & 9403 \\\\\n",
       "\t15 & na & 8355 \\\\\n",
       "\t16 & preços & 7942 \\\\\n",
       "\t17 & ao & 7687 \\\\\n",
       "\t18 & inflação & 7643 \\\\\n",
       "\t19 & das & 6999 \\\\\n",
       "\t20 & meses & 5654 \\\\\n",
       "\\end{tabular}\n"
      ],
      "text/plain": [
       "\u001b[1m20×2 DataFrame\u001b[0m\n",
       "\u001b[1m Row \u001b[0m│\u001b[1m Words    \u001b[0m\u001b[1m n     \u001b[0m\n",
       "\u001b[1m     \u001b[0m│\u001b[90m Any      \u001b[0m\u001b[90m Any   \u001b[0m\n",
       "─────┼─────────────────\n",
       "   1 │ de        93856\n",
       "   2 │ em        39290\n",
       "   3 │ a         39225\n",
       "   4 │ e         32037\n",
       "   5 │ o         27817\n",
       "   6 │ do        24770\n",
       "   7 │ da        21635\n",
       "   8 │ no        18765\n",
       "   9 │ para      17303\n",
       "  10 │ que       14345\n",
       "  11 │ com       11393\n",
       "  12 │ os        9843\n",
       "  13 │ as        9597\n",
       "  14 │ dos       9403\n",
       "  15 │ na        8355\n",
       "  16 │ preços    7942\n",
       "  17 │ ao        7687\n",
       "  18 │ inflação  7643\n",
       "  19 │ das       6999\n",
       "  20 │ meses     5654"
      ]
     },
     "execution_count": 8,
     "metadata": {},
     "output_type": "execute_result"
    }
   ],
   "source": [
    "dict_words = lexicon(crps);\n",
    "words = [];\n",
    "frequency = [];\n",
    "for (key, value) in dict_words\n",
    "    push!(words,key)\n",
    "    push!(frequency,value)\n",
    "end\n",
    "words_df = DataFrame(Dict(\"Words\"=>words, \"n\"=>frequency));\n",
    "sort!(words_df, [:n, :Words], rev=[true, false])\n",
    "words_df[1:20,:]"
   ]
  },
  {
   "cell_type": "markdown",
   "id": "f7878919-cfd0-4d62-9918-1757042bc63a",
   "metadata": {},
   "source": [
    "#### without stop words"
   ]
  },
  {
   "cell_type": "code",
   "execution_count": 9,
   "id": "bff4129d-c68d-4673-810e-1a0c9a5d2c1a",
   "metadata": {},
   "outputs": [
    {
     "data": {
      "text/plain": [
       "A Corpus with 228 documents:\n",
       " * 228 StringDocument's\n",
       " * 0 FileDocument's\n",
       " * 0 TokenDocument's\n",
       " * 0 NGramDocument's\n",
       "\n",
       "Corpus's lexicon contains 11018 tokens\n",
       "Corpus's index contains 11018 tokens"
      ]
     },
     "execution_count": 9,
     "metadata": {},
     "output_type": "execute_result"
    }
   ],
   "source": [
    "crps2 = deepcopy(crps);\n",
    "prepare!(crps2, strip_stopwords)\n",
    "prepare!(crps2, strip_numbers)\n",
    "prepare!(crps2, strip_punctuation)\n",
    "remove_case!(crps2)\n",
    "remove_words!(crps2, Mystopwords)\n",
    "update_lexicon!(crps2)\n",
    "update_inverse_index!(crps2)\n",
    "crps2"
   ]
  },
  {
   "cell_type": "code",
   "execution_count": 10,
   "id": "d8bfebad-8a92-4fd4-a395-534cb4da0d39",
   "metadata": {},
   "outputs": [
    {
     "data": {
      "text/html": [
       "<div class=\"data-frame\"><p>20 rows × 2 columns</p><table class=\"data-frame\"><thead><tr><th></th><th>Words</th><th>n</th></tr><tr><th></th><th title=\"Any\">Any</th><th title=\"Any\">Any</th></tr></thead><tbody><tr><th>1</th><td>preços</td><td>7942</td></tr><tr><th>2</th><td>inflação</td><td>7643</td></tr><tr><th>3</th><td>taxa</td><td>4563</td></tr><tr><th>4</th><td>copom</td><td>4001</td></tr><tr><th>5</th><td>bilhões</td><td>3944</td></tr><tr><th>6</th><td>crescimento</td><td>3696</td></tr><tr><th>7</th><td>produção</td><td>3349</td></tr><tr><th>8</th><td>bens</td><td>3326</td></tr><tr><th>9</th><td>período</td><td>3127</td></tr><tr><th>10</th><td>anterior</td><td>3109</td></tr><tr><th>11</th><td>cenário</td><td>3101</td></tr><tr><th>12</th><td>política</td><td>3040</td></tr><tr><th>13</th><td>monetária</td><td>2933</td></tr><tr><th>14</th><td>pp</td><td>2833</td></tr><tr><th>15</th><td>us</td><td>2818</td></tr><tr><th>16</th><td>índice</td><td>2678</td></tr><tr><th>17</th><td>expansão</td><td>2522</td></tr><tr><th>18</th><td>mercado</td><td>2490</td></tr><tr><th>19</th><td>economia</td><td>2378</td></tr><tr><th>20</th><td>aumento</td><td>2367</td></tr></tbody></table></div>"
      ],
      "text/latex": [
       "\\begin{tabular}{r|cc}\n",
       "\t& Words & n\\\\\n",
       "\t\\hline\n",
       "\t& Any & Any\\\\\n",
       "\t\\hline\n",
       "\t1 & preços & 7942 \\\\\n",
       "\t2 & inflação & 7643 \\\\\n",
       "\t3 & taxa & 4563 \\\\\n",
       "\t4 & copom & 4001 \\\\\n",
       "\t5 & bilhões & 3944 \\\\\n",
       "\t6 & crescimento & 3696 \\\\\n",
       "\t7 & produção & 3349 \\\\\n",
       "\t8 & bens & 3326 \\\\\n",
       "\t9 & período & 3127 \\\\\n",
       "\t10 & anterior & 3109 \\\\\n",
       "\t11 & cenário & 3101 \\\\\n",
       "\t12 & política & 3040 \\\\\n",
       "\t13 & monetária & 2933 \\\\\n",
       "\t14 & pp & 2833 \\\\\n",
       "\t15 & us & 2818 \\\\\n",
       "\t16 & índice & 2678 \\\\\n",
       "\t17 & expansão & 2522 \\\\\n",
       "\t18 & mercado & 2490 \\\\\n",
       "\t19 & economia & 2378 \\\\\n",
       "\t20 & aumento & 2367 \\\\\n",
       "\\end{tabular}\n"
      ],
      "text/plain": [
       "\u001b[1m20×2 DataFrame\u001b[0m\n",
       "\u001b[1m Row \u001b[0m│\u001b[1m Words       \u001b[0m\u001b[1m n    \u001b[0m\n",
       "\u001b[1m     \u001b[0m│\u001b[90m Any         \u001b[0m\u001b[90m Any  \u001b[0m\n",
       "─────┼───────────────────\n",
       "   1 │ preços       7942\n",
       "   2 │ inflação     7643\n",
       "   3 │ taxa         4563\n",
       "   4 │ copom        4001\n",
       "   5 │ bilhões      3944\n",
       "   6 │ crescimento  3696\n",
       "   7 │ produção     3349\n",
       "   8 │ bens         3326\n",
       "   9 │ período      3127\n",
       "  10 │ anterior     3109\n",
       "  11 │ cenário      3101\n",
       "  12 │ política     3040\n",
       "  13 │ monetária    2933\n",
       "  14 │ pp           2833\n",
       "  15 │ us           2818\n",
       "  16 │ índice       2678\n",
       "  17 │ expansão     2522\n",
       "  18 │ mercado      2490\n",
       "  19 │ economia     2378\n",
       "  20 │ aumento      2367"
      ]
     },
     "execution_count": 10,
     "metadata": {},
     "output_type": "execute_result"
    }
   ],
   "source": [
    "dict_words2 = lexicon(crps2);\n",
    "words2 = [];\n",
    "frequency2 = [];\n",
    "for (key, value) in dict_words2\n",
    "    push!(words2,key)\n",
    "    push!(frequency2,value)\n",
    "end\n",
    "words_df2 = DataFrame(Dict(\"Words\"=>words2, \"n\"=>frequency2));\n",
    "sort!(words_df2, [:n, :Words], rev=[true, false])\n",
    "words_df2[1:20,:]"
   ]
  },
  {
   "cell_type": "markdown",
   "id": "40dc7122-6fbb-4391-8fca-a0a8d24f007a",
   "metadata": {},
   "source": [
    "### bigram"
   ]
  },
  {
   "cell_type": "markdown",
   "id": "10cdb33d-6d66-457d-af0e-29687e65c676",
   "metadata": {
    "tags": []
   },
   "source": [
    "#### with stop words"
   ]
  },
  {
   "cell_type": "code",
   "execution_count": 11,
   "id": "bea66d97-0ac2-45b7-9802-47ce0ea59f97",
   "metadata": {},
   "outputs": [],
   "source": [
    "dict_bigram = Dict{Any, Any}()\n",
    "for sent in corpus\n",
    "    doc = StringDocument(lowercase(string(sent)))\n",
    "    language!(doc, Languages.Portuguese())\n",
    "    remove_case!(doc)\n",
    "    prepare!(doc, strip_numbers)\n",
    "    prepare!(doc, strip_punctuation)\n",
    "    dict = ngrams(doc, 2) #this function includes 1-gram and 2-grams\n",
    "    for k in dict\n",
    "        if ' ' in k[1] # exclude 1-gram\n",
    "            if haskey(dict_bigram, k[1])\n",
    "                dict_bigram[k[1]] += k[2]\n",
    "            else\n",
    "                dict_bigram[k[1]] = k[2]\n",
    "            end\n",
    "        end\n",
    "    end\n",
    "end"
   ]
  },
  {
   "cell_type": "code",
   "execution_count": 12,
   "id": "12dcc0bf-0b9a-4123-b287-e9e411115883",
   "metadata": {},
   "outputs": [
    {
     "data": {
      "text/html": [
       "<div class=\"data-frame\"><p>20 rows × 2 columns</p><table class=\"data-frame\"><thead><tr><th></th><th>Bigram</th><th>n</th></tr><tr><th></th><th title=\"Any\">Any</th><th title=\"Any\">Any</th></tr></thead><tbody><tr><th>1</th><td>para a</td><td>4707</td></tr><tr><th>2</th><td>e de</td><td>4686</td></tr><tr><th>3</th><td>de em</td><td>4524</td></tr><tr><th>4</th><td>em relação</td><td>4106</td></tr><tr><th>5</th><td>\\\\ bilhões</td><td>3919</td></tr><tr><th>6</th><td>doze meses</td><td>3299</td></tr><tr><th>7</th><td>de no</td><td>2997</td></tr><tr><th>8</th><td>us \\\\</td><td>2978</td></tr><tr><th>9</th><td>para o</td><td>2776</td></tr><tr><th>10</th><td>r \\\\</td><td>2668</td></tr><tr><th>11</th><td>de preços</td><td>2622</td></tr><tr><th>12</th><td>política monetária</td><td>2619</td></tr><tr><th>13</th><td>a inflação</td><td>2585</td></tr><tr><th>14</th><td>de inflação</td><td>2520</td></tr><tr><th>15</th><td>do ano</td><td>2418</td></tr><tr><th>16</th><td>de bens</td><td>2396</td></tr><tr><th>17</th><td>taxa de</td><td>2390</td></tr><tr><th>18</th><td>a taxa</td><td>2368</td></tr><tr><th>19</th><td>dos preços</td><td>2332</td></tr><tr><th>20</th><td>em doze</td><td>2296</td></tr></tbody></table></div>"
      ],
      "text/latex": [
       "\\begin{tabular}{r|cc}\n",
       "\t& Bigram & n\\\\\n",
       "\t\\hline\n",
       "\t& Any & Any\\\\\n",
       "\t\\hline\n",
       "\t1 & para a & 4707 \\\\\n",
       "\t2 & e de & 4686 \\\\\n",
       "\t3 & de em & 4524 \\\\\n",
       "\t4 & em relação & 4106 \\\\\n",
       "\t5 & \\textbackslash{}\\textbackslash{} bilhões & 3919 \\\\\n",
       "\t6 & doze meses & 3299 \\\\\n",
       "\t7 & de no & 2997 \\\\\n",
       "\t8 & us \\textbackslash{}\\textbackslash{} & 2978 \\\\\n",
       "\t9 & para o & 2776 \\\\\n",
       "\t10 & r \\textbackslash{}\\textbackslash{} & 2668 \\\\\n",
       "\t11 & de preços & 2622 \\\\\n",
       "\t12 & política monetária & 2619 \\\\\n",
       "\t13 & a inflação & 2585 \\\\\n",
       "\t14 & de inflação & 2520 \\\\\n",
       "\t15 & do ano & 2418 \\\\\n",
       "\t16 & de bens & 2396 \\\\\n",
       "\t17 & taxa de & 2390 \\\\\n",
       "\t18 & a taxa & 2368 \\\\\n",
       "\t19 & dos preços & 2332 \\\\\n",
       "\t20 & em doze & 2296 \\\\\n",
       "\\end{tabular}\n"
      ],
      "text/plain": [
       "\u001b[1m20×2 DataFrame\u001b[0m\n",
       "\u001b[1m Row \u001b[0m│\u001b[1m Bigram             \u001b[0m\u001b[1m n    \u001b[0m\n",
       "\u001b[1m     \u001b[0m│\u001b[90m Any                \u001b[0m\u001b[90m Any  \u001b[0m\n",
       "─────┼──────────────────────────\n",
       "   1 │ para a              4707\n",
       "   2 │ e de                4686\n",
       "   3 │ de em               4524\n",
       "   4 │ em relação          4106\n",
       "   5 │ \\\\ bilhões          3919\n",
       "   6 │ doze meses          3299\n",
       "   7 │ de no               2997\n",
       "   8 │ us \\\\               2978\n",
       "   9 │ para o              2776\n",
       "  10 │ r \\\\                2668\n",
       "  11 │ de preços           2622\n",
       "  12 │ política monetária  2619\n",
       "  13 │ a inflação          2585\n",
       "  14 │ de inflação         2520\n",
       "  15 │ do ano              2418\n",
       "  16 │ de bens             2396\n",
       "  17 │ taxa de             2390\n",
       "  18 │ a taxa              2368\n",
       "  19 │ dos preços          2332\n",
       "  20 │ em doze             2296"
      ]
     },
     "execution_count": 12,
     "metadata": {},
     "output_type": "execute_result"
    }
   ],
   "source": [
    "bigrams = [];\n",
    "frequency = [];\n",
    "for (key, value) in dict_bigram\n",
    "    push!(bigrams,key)\n",
    "    push!(frequency,value)\n",
    "end\n",
    "bigram_df = DataFrame(Dict(\"Bigram\"=>bigrams, \"n\"=>frequency));\n",
    "sort!(bigram_df, [:n, :Bigram], rev=[true, false])\n",
    "bigram_df[1:20,:]"
   ]
  },
  {
   "cell_type": "markdown",
   "id": "28f85197-c0e4-4792-bbb2-decbfccad71f",
   "metadata": {
    "tags": []
   },
   "source": [
    "#### without stop words"
   ]
  },
  {
   "cell_type": "code",
   "execution_count": 13,
   "id": "549ffe97-233a-478c-be5a-41e8f8f2edce",
   "metadata": {},
   "outputs": [],
   "source": [
    "dict_bigram = Dict{Any, Any}()\n",
    "for sent in corpus\n",
    "    doc = StringDocument(lowercase(string(sent)))\n",
    "    language!(doc, Languages.Portuguese())\n",
    "    remove_case!(doc)\n",
    "    prepare!(doc, strip_numbers)\n",
    "    prepare!(doc, strip_punctuation)\n",
    "    prepare!(doc, strip_stopwords)\n",
    "    remove_words!(doc, Mystopwords)\n",
    "    dict = ngrams(doc, 2) #this function includes 1-gram and 2-grams\n",
    "    for k in dict\n",
    "        if ' ' in k[1] # exclude 1-gram\n",
    "            if haskey(dict_bigram, k[1])\n",
    "                dict_bigram[k[1]] += k[2]\n",
    "            else\n",
    "                dict_bigram[k[1]] = k[2]\n",
    "            end\n",
    "        end\n",
    "    end\n",
    "end"
   ]
  },
  {
   "cell_type": "code",
   "execution_count": 14,
   "id": "13b18d0b-b4c3-4b74-a9e1-720ad0af3855",
   "metadata": {},
   "outputs": [
    {
     "data": {
      "text/html": [
       "<div class=\"data-frame\"><p>20 rows × 2 columns</p><table class=\"data-frame\"><thead><tr><th></th><th>Bigram</th><th>n</th></tr><tr><th></th><th title=\"Any\">Any</th><th title=\"Any\">Any</th></tr></thead><tbody><tr><th>1</th><td>\\\\ bilhões</td><td>3916</td></tr><tr><th>2</th><td>us \\\\</td><td>2975</td></tr><tr><th>3</th><td>política monetária</td><td>2619</td></tr><tr><th>4</th><td>banco central</td><td>1617</td></tr><tr><th>5</th><td>bens capital</td><td>1228</td></tr><tr><th>6</th><td>atividade econômica</td><td>1089</td></tr><tr><th>7</th><td>bens consumo</td><td>891</td></tr><tr><th>8</th><td>índice preços</td><td>811</td></tr><tr><th>9</th><td>produção industrial</td><td>805</td></tr><tr><th>10</th><td>dados dessazonalizados</td><td>751</td></tr><tr><th>11</th><td>taxa selic</td><td>749</td></tr><tr><th>12</th><td>preços administrados</td><td>746</td></tr><tr><th>13</th><td>produção bens</td><td>726</td></tr><tr><th>14</th><td>preços livres</td><td>665</td></tr><tr><th>15</th><td>taxas juros</td><td>643</td></tr><tr><th>16</th><td>expectativas inflação</td><td>632</td></tr><tr><th>17</th><td>preços consumidor</td><td>624</td></tr><tr><th>18</th><td>indústria transformação</td><td>623</td></tr><tr><th>19</th><td>taxa juros</td><td>613</td></tr><tr><th>20</th><td>\\\\ milhões</td><td>612</td></tr></tbody></table></div>"
      ],
      "text/latex": [
       "\\begin{tabular}{r|cc}\n",
       "\t& Bigram & n\\\\\n",
       "\t\\hline\n",
       "\t& Any & Any\\\\\n",
       "\t\\hline\n",
       "\t1 & \\textbackslash{}\\textbackslash{} bilhões & 3916 \\\\\n",
       "\t2 & us \\textbackslash{}\\textbackslash{} & 2975 \\\\\n",
       "\t3 & política monetária & 2619 \\\\\n",
       "\t4 & banco central & 1617 \\\\\n",
       "\t5 & bens capital & 1228 \\\\\n",
       "\t6 & atividade econômica & 1089 \\\\\n",
       "\t7 & bens consumo & 891 \\\\\n",
       "\t8 & índice preços & 811 \\\\\n",
       "\t9 & produção industrial & 805 \\\\\n",
       "\t10 & dados dessazonalizados & 751 \\\\\n",
       "\t11 & taxa selic & 749 \\\\\n",
       "\t12 & preços administrados & 746 \\\\\n",
       "\t13 & produção bens & 726 \\\\\n",
       "\t14 & preços livres & 665 \\\\\n",
       "\t15 & taxas juros & 643 \\\\\n",
       "\t16 & expectativas inflação & 632 \\\\\n",
       "\t17 & preços consumidor & 624 \\\\\n",
       "\t18 & indústria transformação & 623 \\\\\n",
       "\t19 & taxa juros & 613 \\\\\n",
       "\t20 & \\textbackslash{}\\textbackslash{} milhões & 612 \\\\\n",
       "\\end{tabular}\n"
      ],
      "text/plain": [
       "\u001b[1m20×2 DataFrame\u001b[0m\n",
       "\u001b[1m Row \u001b[0m│\u001b[1m Bigram                  \u001b[0m\u001b[1m n    \u001b[0m\n",
       "\u001b[1m     \u001b[0m│\u001b[90m Any                     \u001b[0m\u001b[90m Any  \u001b[0m\n",
       "─────┼───────────────────────────────\n",
       "   1 │ \\\\ bilhões               3916\n",
       "   2 │ us \\\\                    2975\n",
       "   3 │ política monetária       2619\n",
       "   4 │ banco central            1617\n",
       "   5 │ bens capital             1228\n",
       "   6 │ atividade econômica      1089\n",
       "   7 │ bens consumo             891\n",
       "   8 │ índice preços            811\n",
       "   9 │ produção industrial      805\n",
       "  10 │ dados dessazonalizados   751\n",
       "  11 │ taxa selic               749\n",
       "  12 │ preços administrados     746\n",
       "  13 │ produção bens            726\n",
       "  14 │ preços livres            665\n",
       "  15 │ taxas juros              643\n",
       "  16 │ expectativas inflação    632\n",
       "  17 │ preços consumidor        624\n",
       "  18 │ indústria transformação  623\n",
       "  19 │ taxa juros               613\n",
       "  20 │ \\\\ milhões               612"
      ]
     },
     "execution_count": 14,
     "metadata": {},
     "output_type": "execute_result"
    }
   ],
   "source": [
    "bigrams = [];\n",
    "frequency = [];\n",
    "for (key, value) in dict_bigram\n",
    "    push!(bigrams,key)\n",
    "    push!(frequency,value)\n",
    "end\n",
    "bigram_df = DataFrame(Dict(\"Bigram\"=>bigrams, \"n\"=>frequency));\n",
    "sort!(bigram_df, [:n, :Bigram], rev=[true, false])\n",
    "bigram_df[1:20,:]"
   ]
  },
  {
   "cell_type": "raw",
   "id": "98eaec82-c908-4fed-b6c0-55b64e541f68",
   "metadata": {},
   "source": [
    "bar(bigram_df.n[1:20])"
   ]
  },
  {
   "cell_type": "markdown",
   "id": "07d62d57-c16a-4fd2-acd8-91a424349300",
   "metadata": {
    "tags": []
   },
   "source": [
    "### trigram"
   ]
  },
  {
   "cell_type": "markdown",
   "id": "986d929f-bb8e-4b4c-95cd-136551fd1092",
   "metadata": {},
   "source": [
    "#### with stop words"
   ]
  },
  {
   "cell_type": "code",
   "execution_count": 15,
   "id": "9c95d0e3-c5db-4295-a6d7-d4d18596a15c",
   "metadata": {},
   "outputs": [],
   "source": [
    "dict_trigram = Dict{Any, Any}()\n",
    "for sent in corpus\n",
    "    doc = StringDocument(lowercase(string(sent)))\n",
    "    language!(doc, Languages.Portuguese())\n",
    "    remove_case!(doc)\n",
    "    prepare!(doc, strip_numbers)\n",
    "    prepare!(doc, strip_punctuation)\n",
    "    dict = ngrams(doc, 3) #this function includes 1-gram, 2-grams and 3-grams\n",
    "    for k in dict\n",
    "        if count( c-> (c == ' ') , k[1]) == 2 # exclude 1-gram and 2-gram\n",
    "            if haskey(dict_trigram, k[1])\n",
    "                dict_trigram[k[1]] += k[2]\n",
    "            else\n",
    "                dict_trigram[k[1]] = k[2]\n",
    "            end\n",
    "        end\n",
    "    end\n",
    "end"
   ]
  },
  {
   "cell_type": "code",
   "execution_count": 16,
   "id": "b7979aad-fd77-4eed-9b75-8f20f00587eb",
   "metadata": {},
   "outputs": [
    {
     "data": {
      "text/html": [
       "<div class=\"data-frame\"><p>20 rows × 2 columns</p><table class=\"data-frame\"><thead><tr><th></th><th>Trigram</th><th>n</th></tr><tr><th></th><th title=\"Any\">Any</th><th title=\"Any\">Any</th></tr></thead><tbody><tr><th>1</th><td>em doze meses</td><td>2291</td></tr><tr><th>2</th><td>us \\\\ bilhões</td><td>2002</td></tr><tr><th>3</th><td>r \\\\ bilhões</td><td>1899</td></tr><tr><th>4</th><td>de bens de</td><td>1647</td></tr><tr><th>5</th><td>em relação ao</td><td>1596</td></tr><tr><th>6</th><td>em relação a</td><td>1328</td></tr><tr><th>7</th><td>para a inflação</td><td>1305</td></tr><tr><th>8</th><td>bens de capital</td><td>1225</td></tr><tr><th>9</th><td>de acordo com</td><td>1225</td></tr><tr><th>10</th><td>a taxa de</td><td>1090</td></tr><tr><th>11</th><td>de us \\\\</td><td>1089</td></tr><tr><th>12</th><td>\\\\ bilhões em</td><td>1072</td></tr><tr><th>13</th><td>o índice de</td><td>1037</td></tr><tr><th>14</th><td>da política monetária</td><td>1009</td></tr><tr><th>15</th><td>de r \\\\</td><td>946</td></tr><tr><th>16</th><td>reunião do copom</td><td>946</td></tr><tr><th>17</th><td>bens de consumo</td><td>888</td></tr><tr><th>18</th><td>do ano anterior</td><td>854</td></tr><tr><th>19</th><td>da taxa de</td><td>819</td></tr><tr><th>20</th><td>a produção de</td><td>752</td></tr></tbody></table></div>"
      ],
      "text/latex": [
       "\\begin{tabular}{r|cc}\n",
       "\t& Trigram & n\\\\\n",
       "\t\\hline\n",
       "\t& Any & Any\\\\\n",
       "\t\\hline\n",
       "\t1 & em doze meses & 2291 \\\\\n",
       "\t2 & us \\textbackslash{}\\textbackslash{} bilhões & 2002 \\\\\n",
       "\t3 & r \\textbackslash{}\\textbackslash{} bilhões & 1899 \\\\\n",
       "\t4 & de bens de & 1647 \\\\\n",
       "\t5 & em relação ao & 1596 \\\\\n",
       "\t6 & em relação a & 1328 \\\\\n",
       "\t7 & para a inflação & 1305 \\\\\n",
       "\t8 & bens de capital & 1225 \\\\\n",
       "\t9 & de acordo com & 1225 \\\\\n",
       "\t10 & a taxa de & 1090 \\\\\n",
       "\t11 & de us \\textbackslash{}\\textbackslash{} & 1089 \\\\\n",
       "\t12 & \\textbackslash{}\\textbackslash{} bilhões em & 1072 \\\\\n",
       "\t13 & o índice de & 1037 \\\\\n",
       "\t14 & da política monetária & 1009 \\\\\n",
       "\t15 & de r \\textbackslash{}\\textbackslash{} & 946 \\\\\n",
       "\t16 & reunião do copom & 946 \\\\\n",
       "\t17 & bens de consumo & 888 \\\\\n",
       "\t18 & do ano anterior & 854 \\\\\n",
       "\t19 & da taxa de & 819 \\\\\n",
       "\t20 & a produção de & 752 \\\\\n",
       "\\end{tabular}\n"
      ],
      "text/plain": [
       "\u001b[1m20×2 DataFrame\u001b[0m\n",
       "\u001b[1m Row \u001b[0m│\u001b[1m Trigram               \u001b[0m\u001b[1m n    \u001b[0m\n",
       "\u001b[1m     \u001b[0m│\u001b[90m Any                   \u001b[0m\u001b[90m Any  \u001b[0m\n",
       "─────┼─────────────────────────────\n",
       "   1 │ em doze meses          2291\n",
       "   2 │ us \\\\ bilhões          2002\n",
       "   3 │ r \\\\ bilhões           1899\n",
       "   4 │ de bens de             1647\n",
       "   5 │ em relação ao          1596\n",
       "   6 │ em relação a           1328\n",
       "   7 │ para a inflação        1305\n",
       "   8 │ bens de capital        1225\n",
       "   9 │ de acordo com          1225\n",
       "  10 │ a taxa de              1090\n",
       "  11 │ de us \\\\               1089\n",
       "  12 │ \\\\ bilhões em          1072\n",
       "  13 │ o índice de            1037\n",
       "  14 │ da política monetária  1009\n",
       "  15 │ de r \\\\                946\n",
       "  16 │ reunião do copom       946\n",
       "  17 │ bens de consumo        888\n",
       "  18 │ do ano anterior        854\n",
       "  19 │ da taxa de             819\n",
       "  20 │ a produção de          752"
      ]
     },
     "execution_count": 16,
     "metadata": {},
     "output_type": "execute_result"
    }
   ],
   "source": [
    "trigrams = [];\n",
    "frequency = [];\n",
    "for (key, value) in dict_trigram\n",
    "    push!(trigrams,key)\n",
    "    push!(frequency,value)\n",
    "end\n",
    "trigram_df = DataFrame(Dict(\"Trigram\"=>trigrams, \"n\"=>frequency));\n",
    "sort!(trigram_df, [:n, :Trigram], rev=[true, false])\n",
    "trigram_df[1:20,:]"
   ]
  },
  {
   "cell_type": "markdown",
   "id": "34376188-21dd-49e2-9cfe-ad90ef47fe3e",
   "metadata": {},
   "source": [
    "#### without stop words"
   ]
  },
  {
   "cell_type": "code",
   "execution_count": 17,
   "id": "e56c05d2-a067-4bb1-9788-0e53e41a0810",
   "metadata": {},
   "outputs": [],
   "source": [
    "dict_trigram = Dict{Any, Any}()\n",
    "for sent in corpus\n",
    "    doc = StringDocument(lowercase(string(sent)))\n",
    "    language!(doc, Languages.Portuguese())\n",
    "    remove_case!(doc)\n",
    "    prepare!(doc, strip_numbers)\n",
    "    prepare!(doc, strip_punctuation)\n",
    "    prepare!(doc, strip_stopwords)\n",
    "    remove_words!(doc, Mystopwords)\n",
    "    dict = ngrams(doc, 3) #this function includes 1-gram, 2-grams and 3-grams\n",
    "    for k in dict\n",
    "        if count( c-> (c == ' ') , k[1]) == 2 # exclude 1-gram and 2-gram\n",
    "            if haskey(dict_trigram, k[1])\n",
    "                dict_trigram[k[1]] += k[2]\n",
    "            else\n",
    "                dict_trigram[k[1]] = k[2]\n",
    "            end\n",
    "        end\n",
    "    end\n",
    "end"
   ]
  },
  {
   "cell_type": "code",
   "execution_count": 18,
   "id": "f32ca8ce-cf14-42fa-9e94-dee261a0413f",
   "metadata": {},
   "outputs": [
    {
     "data": {
      "text/html": [
       "<div class=\"data-frame\"><p>20 rows × 2 columns</p><table class=\"data-frame\"><thead><tr><th></th><th>Trigram</th><th>n</th></tr><tr><th></th><th title=\"Any\">Any</th><th title=\"Any\">Any</th></tr></thead><tbody><tr><th>1</th><td>us \\\\ bilhões</td><td>2001</td></tr><tr><th>2</th><td>bens consumo duráveis</td><td>456</td></tr><tr><th>3</th><td>us \\\\ milhões</td><td>442</td></tr><tr><th>4</th><td>produção bens capital</td><td>374</td></tr><tr><th>5</th><td>médias aparadas suavização</td><td>330</td></tr><tr><th>6</th><td>\\\\ bilhões \\\\</td><td>320</td></tr><tr><th>7</th><td>bilhões \\\\ bilhões</td><td>293</td></tr><tr><th>8</th><td>massa salarial real</td><td>291</td></tr><tr><th>9</th><td>dessazonalizados banco central</td><td>274</td></tr><tr><th>10</th><td>us \\\\ bilhão</td><td>273</td></tr><tr><th>11</th><td>administrados contrato monitorados</td><td>271</td></tr><tr><th>12</th><td>utilização capacidade instalada</td><td>261</td></tr><tr><th>13</th><td>taxa selic aa</td><td>246</td></tr><tr><th>14</th><td>índice preços consumidor</td><td>243</td></tr><tr><th>15</th><td>saldo diário médio</td><td>219</td></tr><tr><th>16</th><td>série ajuste sazonal</td><td>219</td></tr><tr><th>17</th><td>implementação política monetária</td><td>217</td></tr><tr><th>18</th><td>pp pp pp</td><td>210</td></tr><tr><th>19</th><td>bilhões us \\\\</td><td>208</td></tr><tr><th>20</th><td>\\\\ bilhões us</td><td>207</td></tr></tbody></table></div>"
      ],
      "text/latex": [
       "\\begin{tabular}{r|cc}\n",
       "\t& Trigram & n\\\\\n",
       "\t\\hline\n",
       "\t& Any & Any\\\\\n",
       "\t\\hline\n",
       "\t1 & us \\textbackslash{}\\textbackslash{} bilhões & 2001 \\\\\n",
       "\t2 & bens consumo duráveis & 456 \\\\\n",
       "\t3 & us \\textbackslash{}\\textbackslash{} milhões & 442 \\\\\n",
       "\t4 & produção bens capital & 374 \\\\\n",
       "\t5 & médias aparadas suavização & 330 \\\\\n",
       "\t6 & \\textbackslash{}\\textbackslash{} bilhões \\textbackslash{}\\textbackslash{} & 320 \\\\\n",
       "\t7 & bilhões \\textbackslash{}\\textbackslash{} bilhões & 293 \\\\\n",
       "\t8 & massa salarial real & 291 \\\\\n",
       "\t9 & dessazonalizados banco central & 274 \\\\\n",
       "\t10 & us \\textbackslash{}\\textbackslash{} bilhão & 273 \\\\\n",
       "\t11 & administrados contrato monitorados & 271 \\\\\n",
       "\t12 & utilização capacidade instalada & 261 \\\\\n",
       "\t13 & taxa selic aa & 246 \\\\\n",
       "\t14 & índice preços consumidor & 243 \\\\\n",
       "\t15 & saldo diário médio & 219 \\\\\n",
       "\t16 & série ajuste sazonal & 219 \\\\\n",
       "\t17 & implementação política monetária & 217 \\\\\n",
       "\t18 & pp pp pp & 210 \\\\\n",
       "\t19 & bilhões us \\textbackslash{}\\textbackslash{} & 208 \\\\\n",
       "\t20 & \\textbackslash{}\\textbackslash{} bilhões us & 207 \\\\\n",
       "\\end{tabular}\n"
      ],
      "text/plain": [
       "\u001b[1m20×2 DataFrame\u001b[0m\n",
       "\u001b[1m Row \u001b[0m│\u001b[1m Trigram                           \u001b[0m\u001b[1m n    \u001b[0m\n",
       "\u001b[1m     \u001b[0m│\u001b[90m Any                               \u001b[0m\u001b[90m Any  \u001b[0m\n",
       "─────┼─────────────────────────────────────────\n",
       "   1 │ us \\\\ bilhões                      2001\n",
       "   2 │ bens consumo duráveis              456\n",
       "   3 │ us \\\\ milhões                      442\n",
       "   4 │ produção bens capital              374\n",
       "   5 │ médias aparadas suavização         330\n",
       "   6 │ \\\\ bilhões \\\\                      320\n",
       "   7 │ bilhões \\\\ bilhões                 293\n",
       "   8 │ massa salarial real                291\n",
       "   9 │ dessazonalizados banco central     274\n",
       "  10 │ us \\\\ bilhão                       273\n",
       "  11 │ administrados contrato monitorad…  271\n",
       "  12 │ utilização capacidade instalada    261\n",
       "  13 │ taxa selic aa                      246\n",
       "  14 │ índice preços consumidor           243\n",
       "  15 │ saldo diário médio                 219\n",
       "  16 │ série ajuste sazonal               219\n",
       "  17 │ implementação política monetária   217\n",
       "  18 │ pp pp pp                           210\n",
       "  19 │ bilhões us \\\\                      208\n",
       "  20 │ \\\\ bilhões us                      207"
      ]
     },
     "execution_count": 18,
     "metadata": {},
     "output_type": "execute_result"
    }
   ],
   "source": [
    "trigrams = [];\n",
    "frequency = [];\n",
    "for (key, value) in dict_trigram\n",
    "    push!(trigrams,key)\n",
    "    push!(frequency,value)\n",
    "end\n",
    "trigram_df = DataFrame(Dict(\"Trigram\"=>trigrams, \"n\"=>frequency));\n",
    "sort!(trigram_df, [:n, :Trigram], rev=[true, false])\n",
    "trigram_df[1:20,:]"
   ]
  }
 ],
 "metadata": {
  "kernelspec": {
   "display_name": "Julia 1.6.2",
   "language": "julia",
   "name": "julia-1.6"
  },
  "language_info": {
   "file_extension": ".jl",
   "mimetype": "application/julia",
   "name": "julia",
   "version": "1.7.3"
  }
 },
 "nbformat": 4,
 "nbformat_minor": 5
}
