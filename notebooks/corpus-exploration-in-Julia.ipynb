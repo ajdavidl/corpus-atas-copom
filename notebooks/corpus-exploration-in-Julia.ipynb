{
 "cells": [
  {
   "cell_type": "code",
   "execution_count": null,
   "id": "6f4a3876-fb68-42d7-a7a2-81924483cf3e",
   "metadata": {},
   "outputs": [],
   "source": [
    "println(\"Julia version: \", VERSION)"
   ]
  },
  {
   "cell_type": "code",
   "execution_count": null,
   "id": "0583f354-895d-46bc-938f-e1f91e7b0f5b",
   "metadata": {},
   "outputs": [],
   "source": [
    "using DataFrames\n",
    "using Plots\n",
    "using FreqTables\n",
    "using TextAnalysis\n",
    "using Languages\n",
    "using WordCloud"
   ]
  },
  {
   "cell_type": "code",
   "execution_count": null,
   "id": "52cdc08a-6306-4e54-b79e-094b7e1a16de",
   "metadata": {},
   "outputs": [],
   "source": [
    "Mystopwords = stopwords(Languages.Portuguese)\n",
    "println(\"Number of stopwords: \",length(Mystopwords))"
   ]
  },
  {
   "cell_type": "markdown",
   "id": "80439e29-774e-421f-abda-26bdf6542e17",
   "metadata": {},
   "source": [
    "Create a corpus"
   ]
  },
  {
   "cell_type": "code",
   "execution_count": null,
   "id": "2288ed09-7c0a-41e6-95ff-d636344721fe",
   "metadata": {},
   "outputs": [],
   "source": [
    "listAtas = readdir(\"../atas\");\n",
    "corpus = []\n",
    "\n",
    "for i in 1:length(listAtas)\n",
    "    f = open(\"../atas/\" * listAtas[i])\n",
    "    txt = readlines(f)\n",
    "    push!(corpus,txt)\n",
    "end\n",
    "\n",
    "println(length(corpus), \" atas\" )"
   ]
  },
  {
   "cell_type": "code",
   "execution_count": null,
   "id": "1d19800a-71c9-45bb-b2a4-bfac7eff0664",
   "metadata": {},
   "outputs": [],
   "source": [
    "docs = []\n",
    "for i in 1:length(listAtas)\n",
    "    fd = FileDocument(\"../atas/\" * listAtas[i]);\n",
    "    language!(fd, Languages.Portuguese())\n",
    "    push!(docs,fd)\n",
    "end\n",
    "crps = Corpus(docs)\n",
    "standardize!(crps, StringDocument)\n",
    "remove_case!(crps)\n",
    "prepare!(crps, strip_numbers)\n",
    "prepare!(crps, strip_punctuation)\n",
    "update_lexicon!(crps)\n",
    "update_inverse_index!(crps)\n",
    "crps"
   ]
  },
  {
   "cell_type": "markdown",
   "id": "4044ca16-f802-4134-8c82-765679de4500",
   "metadata": {},
   "source": [
    "### char frequency\n"
   ]
  },
  {
   "cell_type": "code",
   "execution_count": null,
   "id": "d9644639-53ef-4e85-92b8-ae610bb6632d",
   "metadata": {},
   "outputs": [],
   "source": [
    "dict_char = Dict{Char, Int}()\n",
    "for txt in corpus\n",
    "    for char in string(txt)\n",
    "        if haskey(dict_char, char)\n",
    "         dict_char[char] += 1\n",
    "      else\n",
    "         dict_char[char] = 1\n",
    "      end\n",
    "    end\n",
    "end\n"
   ]
  },
  {
   "cell_type": "code",
   "execution_count": null,
   "id": "ad9d2951-3a07-42fc-b8bb-39b5cda83424",
   "metadata": {},
   "outputs": [],
   "source": [
    "chars = [];\n",
    "frequency = [];\n",
    "for (key, value) in dict_char\n",
    "    push!(chars,key)\n",
    "    push!(frequency,value)\n",
    "end\n",
    "char_df = DataFrame(Dict(\"Char\"=>chars, \"n\"=>frequency));\n",
    "sort!(char_df, [:n, :Char], rev=[true, false])\n",
    "char_df[1:20,:]"
   ]
  },
  {
   "cell_type": "code",
   "execution_count": null,
   "id": "cb33c235-e828-4d03-894b-c8c959219017",
   "metadata": {},
   "outputs": [],
   "source": [
    "bar(char_df[1:10, 1], char_df[1:10, 2], title=\"char frequency\")"
   ]
  },
  {
   "cell_type": "markdown",
   "id": "ad302b8b-34e4-40bd-8b50-e4e9d50ecfb2",
   "metadata": {},
   "source": [
    "### word frequency"
   ]
  },
  {
   "cell_type": "markdown",
   "id": "0f7d7e05-e774-45fc-9478-f75baa8c8f13",
   "metadata": {},
   "source": [
    "#### with stop words"
   ]
  },
  {
   "cell_type": "code",
   "execution_count": null,
   "id": "e869c3c5-d70b-4126-8ca6-76c7d109a41a",
   "metadata": {},
   "outputs": [],
   "source": [
    "dict_words = lexicon(crps);\n",
    "words = [];\n",
    "frequency = [];\n",
    "for (key, value) in dict_words\n",
    "    push!(words,key)\n",
    "    push!(frequency,value)\n",
    "end\n",
    "words_df = DataFrame(Dict(\"Words\"=>words, \"n\"=>frequency));\n",
    "sort!(words_df, [:n, :Words], rev=[true, false])\n",
    "words_df[1:20,:]"
   ]
  },
  {
   "cell_type": "code",
   "execution_count": null,
   "id": "aee81628-b305-4541-90eb-928c5bf8338c",
   "metadata": {},
   "outputs": [],
   "source": [
    "bar(words_df[1:10, 1], words_df[1:10, 2], title=\"word frequency with stopwords\")"
   ]
  },
  {
   "cell_type": "markdown",
   "id": "f7878919-cfd0-4d62-9918-1757042bc63a",
   "metadata": {},
   "source": [
    "#### without stop words"
   ]
  },
  {
   "cell_type": "code",
   "execution_count": null,
   "id": "31e60e49-508b-4193-a2b3-e93aa75cca6a",
   "metadata": {},
   "outputs": [],
   "source": [
    "wc = wordcloud(convert(Vector{String}, words[1:200]), convert(Vector{Float64}, frequency[1:200]), \n",
    "    density = 0.1,\n",
    "    outline = 4,\n",
    "    linecolor = \"purpe\",\n",
    "    colors = :Set1_5,\n",
    "    angles = (0),\n",
    "    fonts = \"Verdana Bold\",\n",
    "    mask=shape(box, 900, 300, cornerradius=0, color=0.95), \n",
    "    minfontsize = 2, maxfontsize = 12)"
   ]
  },
  {
   "cell_type": "code",
   "execution_count": null,
   "id": "bff4129d-c68d-4673-810e-1a0c9a5d2c1a",
   "metadata": {},
   "outputs": [],
   "source": [
    "crps2 = deepcopy(crps);\n",
    "prepare!(crps2, strip_stopwords)\n",
    "prepare!(crps2, strip_numbers)\n",
    "prepare!(crps2, strip_punctuation)\n",
    "remove_case!(crps2)\n",
    "remove_words!(crps2, Mystopwords)\n",
    "update_lexicon!(crps2)\n",
    "update_inverse_index!(crps2)\n",
    "crps2"
   ]
  },
  {
   "cell_type": "code",
   "execution_count": null,
   "id": "d8bfebad-8a92-4fd4-a395-534cb4da0d39",
   "metadata": {},
   "outputs": [],
   "source": [
    "dict_words2 = lexicon(crps2);\n",
    "words2 = [];\n",
    "frequency2 = [];\n",
    "for (key, value) in dict_words2\n",
    "    push!(words2,key)\n",
    "    push!(frequency2,value)\n",
    "end\n",
    "words_df2 = DataFrame(Dict(\"Words\"=>words2, \"n\"=>frequency2));\n",
    "sort!(words_df2, [:n, :Words], rev=[true, false])\n",
    "words_df2[1:20,:]"
   ]
  },
  {
   "cell_type": "code",
   "execution_count": null,
   "id": "0725d346-ca5a-43cb-a651-e73a690380f1",
   "metadata": {},
   "outputs": [],
   "source": [
    "bar(words_df2[1:10, 1], words_df[1:10, 2], title=\"word frequency without stopwords\")"
   ]
  },
  {
   "cell_type": "code",
   "execution_count": null,
   "id": "e483cfd7-f44f-4bff-9a35-18af95c7f982",
   "metadata": {},
   "outputs": [],
   "source": [
    "wc = wordcloud(convert(Vector{String}, words2[1:200]), convert(Vector{Float64}, frequency2[1:200]), \n",
    "    density = 0.1,\n",
    "    outline = 4,\n",
    "    linecolor = \"purpe\",\n",
    "    colors = :Set1_5,\n",
    "    angles = (0),\n",
    "    fonts = \"Verdana Bold\",\n",
    "    mask=shape(box, 900, 300, cornerradius=0, color=0.95), \n",
    "    minfontsize = 2, maxfontsize = 12)"
   ]
  },
  {
   "cell_type": "markdown",
   "id": "40dc7122-6fbb-4391-8fca-a0a8d24f007a",
   "metadata": {},
   "source": [
    "### bigram"
   ]
  },
  {
   "cell_type": "markdown",
   "id": "10cdb33d-6d66-457d-af0e-29687e65c676",
   "metadata": {
    "tags": []
   },
   "source": [
    "#### with stop words"
   ]
  },
  {
   "cell_type": "code",
   "execution_count": null,
   "id": "bea66d97-0ac2-45b7-9802-47ce0ea59f97",
   "metadata": {},
   "outputs": [],
   "source": [
    "dict_bigram = Dict{Any, Any}()\n",
    "for sent in corpus\n",
    "    doc = StringDocument(lowercase(string(sent)))\n",
    "    language!(doc, Languages.Portuguese())\n",
    "    remove_case!(doc)\n",
    "    prepare!(doc, strip_numbers)\n",
    "    prepare!(doc, strip_punctuation)\n",
    "    dict = ngrams(doc, 2) #this function includes 1-gram and 2-grams\n",
    "    for k in dict\n",
    "        if ' ' in k[1] # exclude 1-gram\n",
    "            if haskey(dict_bigram, k[1])\n",
    "                dict_bigram[k[1]] += k[2]\n",
    "            else\n",
    "                dict_bigram[k[1]] = k[2]\n",
    "            end\n",
    "        end\n",
    "    end\n",
    "end"
   ]
  },
  {
   "cell_type": "code",
   "execution_count": null,
   "id": "12dcc0bf-0b9a-4123-b287-e9e411115883",
   "metadata": {},
   "outputs": [],
   "source": [
    "bigrams = [];\n",
    "frequency = [];\n",
    "for (key, value) in dict_bigram\n",
    "    push!(bigrams,key)\n",
    "    push!(frequency,value)\n",
    "end\n",
    "bigram_df = DataFrame(Dict(\"Bigram\"=>bigrams, \"n\"=>frequency));\n",
    "sort!(bigram_df, [:n, :Bigram], rev=[true, false])\n",
    "bigram_df[1:20,:]"
   ]
  },
  {
   "cell_type": "code",
   "execution_count": null,
   "id": "9d68b11e-516e-4b1e-8877-6bad0eed11bd",
   "metadata": {},
   "outputs": [],
   "source": [
    "bar(bigram_df[1:10, 1], bigram_df[1:10, 2], title=\"bigram frequency with stopwords\")"
   ]
  },
  {
   "cell_type": "code",
   "execution_count": null,
   "id": "2a986a04-0f6d-44a2-920a-5d3405b0bca2",
   "metadata": {},
   "outputs": [],
   "source": [
    "wc = wordcloud(convert(Vector{String}, bigrams[1:200]), convert(Vector{Float64}, frequency[1:200]), \n",
    "    density = 0.1,\n",
    "    outline = 4,\n",
    "    linecolor = \"purpe\",\n",
    "    colors = :Set1_5,\n",
    "    angles = (0),\n",
    "    fonts = \"Verdana Bold\",\n",
    "    mask=shape(box, 900, 300, cornerradius=0, color=0.95), \n",
    "    minfontsize = 2, maxfontsize = 12)"
   ]
  },
  {
   "cell_type": "markdown",
   "id": "22cdb9d7-00f3-4960-8c35-b4703b9b0fbe",
   "metadata": {
    "tags": []
   },
   "source": [
    "#### without stop words"
   ]
  },
  {
   "cell_type": "code",
   "execution_count": null,
   "id": "549ffe97-233a-478c-be5a-41e8f8f2edce",
   "metadata": {},
   "outputs": [],
   "source": [
    "dict_bigram = Dict{Any, Any}()\n",
    "for sent in corpus\n",
    "    doc = StringDocument(lowercase(string(sent)))\n",
    "    language!(doc, Languages.Portuguese())\n",
    "    remove_case!(doc)\n",
    "    prepare!(doc, strip_numbers)\n",
    "    prepare!(doc, strip_punctuation)\n",
    "    prepare!(doc, strip_stopwords)\n",
    "    remove_words!(doc, Mystopwords)\n",
    "    dict = ngrams(doc, 2) #this function includes 1-gram and 2-grams\n",
    "    for k in dict\n",
    "        if ' ' in k[1] # exclude 1-gram\n",
    "            if haskey(dict_bigram, k[1])\n",
    "                dict_bigram[k[1]] += k[2]\n",
    "            else\n",
    "                dict_bigram[k[1]] = k[2]\n",
    "            end\n",
    "        end\n",
    "    end\n",
    "end"
   ]
  },
  {
   "cell_type": "code",
   "execution_count": null,
   "id": "13b18d0b-b4c3-4b74-a9e1-720ad0af3855",
   "metadata": {},
   "outputs": [],
   "source": [
    "bigrams2 = [];\n",
    "frequency2 = [];\n",
    "for (key, value) in dict_bigram\n",
    "    push!(bigrams2,key)\n",
    "    push!(frequency2,value)\n",
    "end\n",
    "bigram_df = DataFrame(Dict(\"Bigram\"=>bigrams2, \"n\"=>frequency2));\n",
    "sort!(bigram_df, [:n, :Bigram], rev=[true, false])\n",
    "bigram_df[1:20,:]"
   ]
  },
  {
   "cell_type": "code",
   "execution_count": null,
   "id": "30422294-d6a3-4acc-bbe6-ddd616c12c05",
   "metadata": {},
   "outputs": [],
   "source": [
    "bar(bigram_df[1:10, 1], bigram_df[1:10, 2], title=\"bigram frequency without stopwords\")"
   ]
  },
  {
   "cell_type": "code",
   "execution_count": null,
   "id": "b032e300-60da-46d7-be36-71920ba02295",
   "metadata": {},
   "outputs": [],
   "source": [
    "wc = wordcloud(convert(Vector{String}, bigrams2[1:200]), convert(Vector{Float64}, frequency2[1:200]), \n",
    "    density = 0.1,\n",
    "    outline = 4,\n",
    "    linecolor = \"purpe\",\n",
    "    colors = :Set1_5,\n",
    "    angles = (0),\n",
    "    fonts = \"Verdana Bold\",\n",
    "    mask=shape(box, 900, 300, cornerradius=0, color=0.95), \n",
    "    minfontsize = 2, maxfontsize = 12)"
   ]
  },
  {
   "cell_type": "markdown",
   "id": "07d62d57-c16a-4fd2-acd8-91a424349300",
   "metadata": {
    "tags": []
   },
   "source": [
    "### trigram"
   ]
  },
  {
   "cell_type": "markdown",
   "id": "986d929f-bb8e-4b4c-95cd-136551fd1092",
   "metadata": {},
   "source": [
    "#### with stop words"
   ]
  },
  {
   "cell_type": "code",
   "execution_count": null,
   "id": "9c95d0e3-c5db-4295-a6d7-d4d18596a15c",
   "metadata": {},
   "outputs": [],
   "source": [
    "dict_trigram = Dict{Any, Any}()\n",
    "for sent in corpus\n",
    "    doc = StringDocument(lowercase(string(sent)))\n",
    "    language!(doc, Languages.Portuguese())\n",
    "    remove_case!(doc)\n",
    "    prepare!(doc, strip_numbers)\n",
    "    prepare!(doc, strip_punctuation)\n",
    "    dict = ngrams(doc, 3) #this function includes 1-gram, 2-grams and 3-grams\n",
    "    for k in dict\n",
    "        if count( c-> (c == ' ') , k[1]) == 2 # exclude 1-gram and 2-gram\n",
    "            if haskey(dict_trigram, k[1])\n",
    "                dict_trigram[k[1]] += k[2]\n",
    "            else\n",
    "                dict_trigram[k[1]] = k[2]\n",
    "            end\n",
    "        end\n",
    "    end\n",
    "end"
   ]
  },
  {
   "cell_type": "code",
   "execution_count": null,
   "id": "b7979aad-fd77-4eed-9b75-8f20f00587eb",
   "metadata": {},
   "outputs": [],
   "source": [
    "trigrams = [];\n",
    "frequency = [];\n",
    "for (key, value) in dict_trigram\n",
    "    push!(trigrams,key)\n",
    "    push!(frequency,value)\n",
    "end\n",
    "trigram_df = DataFrame(Dict(\"Trigram\"=>trigrams, \"n\"=>frequency));\n",
    "sort!(trigram_df, [:n, :Trigram], rev=[true, false])\n",
    "trigram_df[1:20,:]"
   ]
  },
  {
   "cell_type": "code",
   "execution_count": null,
   "id": "1303cdbd-7146-4444-bd79-27abd030444c",
   "metadata": {},
   "outputs": [],
   "source": [
    "bar(trigram_df[1:10, 1], trigram_df[1:10, 2], title=\"trigram frequency with stopwords\")"
   ]
  },
  {
   "cell_type": "code",
   "execution_count": null,
   "id": "d7bc6708-8ac3-44b3-85da-19e7ba5674d0",
   "metadata": {},
   "outputs": [],
   "source": [
    "wc = wordcloud(convert(Vector{String}, trigrams[1:200]), convert(Vector{Float64}, frequency[1:200]), \n",
    "    density = 0.1,\n",
    "    outline = 4,\n",
    "    linecolor = \"purpe\",\n",
    "    colors = :Set1_5,\n",
    "    angles = (0),\n",
    "    fonts = \"Verdana Bold\",\n",
    "    mask=shape(box, 900, 300, cornerradius=0, color=0.95), \n",
    "    minfontsize = 2, maxfontsize = 12)"
   ]
  },
  {
   "cell_type": "markdown",
   "id": "34376188-21dd-49e2-9cfe-ad90ef47fe3e",
   "metadata": {},
   "source": [
    "#### without stop words"
   ]
  },
  {
   "cell_type": "code",
   "execution_count": null,
   "id": "e56c05d2-a067-4bb1-9788-0e53e41a0810",
   "metadata": {},
   "outputs": [],
   "source": [
    "dict_trigram = Dict{Any, Any}()\n",
    "for sent in corpus\n",
    "    doc = StringDocument(lowercase(string(sent)))\n",
    "    language!(doc, Languages.Portuguese())\n",
    "    remove_case!(doc)\n",
    "    prepare!(doc, strip_numbers)\n",
    "    prepare!(doc, strip_punctuation)\n",
    "    prepare!(doc, strip_stopwords)\n",
    "    remove_words!(doc, Mystopwords)\n",
    "    dict = ngrams(doc, 3) #this function includes 1-gram, 2-grams and 3-grams\n",
    "    for k in dict\n",
    "        if count( c-> (c == ' ') , k[1]) == 2 # exclude 1-gram and 2-gram\n",
    "            if haskey(dict_trigram, k[1])\n",
    "                dict_trigram[k[1]] += k[2]\n",
    "            else\n",
    "                dict_trigram[k[1]] = k[2]\n",
    "            end\n",
    "        end\n",
    "    end\n",
    "end"
   ]
  },
  {
   "cell_type": "code",
   "execution_count": null,
   "id": "f32ca8ce-cf14-42fa-9e94-dee261a0413f",
   "metadata": {},
   "outputs": [],
   "source": [
    "trigrams2 = [];\n",
    "frequency2 = [];\n",
    "for (key, value) in dict_trigram\n",
    "    push!(trigrams2,key)\n",
    "    push!(frequency2,value)\n",
    "end\n",
    "trigram_df = DataFrame(Dict(\"Trigram\"=>trigrams2, \"n\"=>frequency2));\n",
    "sort!(trigram_df, [:n, :Trigram], rev=[true, false])\n",
    "trigram_df[1:20,:]"
   ]
  },
  {
   "cell_type": "code",
   "execution_count": null,
   "id": "6a4e073a-4f50-4fcc-a626-08631e2e2218",
   "metadata": {},
   "outputs": [],
   "source": [
    "bar(trigram_df[1:10, 1], trigram_df[1:10, 2], title=\"trigram frequency without stopwords\")"
   ]
  },
  {
   "cell_type": "code",
   "execution_count": null,
   "id": "7e45f449-6c09-4be7-a85c-46e89f8628c8",
   "metadata": {},
   "outputs": [],
   "source": [
    "wc = wordcloud(convert(Vector{String}, trigrams2[1:200]), convert(Vector{Float64}, frequency2[1:200]), \n",
    "    density = 0.1,\n",
    "    outline = 4,\n",
    "    linecolor = \"purpe\",\n",
    "    colors = :Set1_5,\n",
    "    angles = (0),\n",
    "    fonts = \"Verdana Bold\",\n",
    "    mask=shape(box, 900, 300, cornerradius=0, color=0.95), \n",
    "    minfontsize = 2, maxfontsize = 12)"
   ]
  }
 ],
 "metadata": {
  "kernelspec": {
   "display_name": "Julia 1.8.1",
   "language": "julia",
   "name": "julia-1.8"
  },
  "language_info": {
   "file_extension": ".jl",
   "mimetype": "application/julia",
   "name": "julia",
   "version": "1.8.4"
  }
 },
 "nbformat": 4,
 "nbformat_minor": 5
}
