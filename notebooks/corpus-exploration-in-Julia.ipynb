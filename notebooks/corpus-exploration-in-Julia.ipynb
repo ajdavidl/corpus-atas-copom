{
 "cells": [
  {
   "cell_type": "code",
   "execution_count": 1,
   "id": "0583f354-895d-46bc-938f-e1f91e7b0f5b",
   "metadata": {},
   "outputs": [],
   "source": [
    "using DataFrames\n",
    "using Plots\n",
    "using FreqTables\n",
    "using TextAnalysis"
   ]
  },
  {
   "cell_type": "code",
   "execution_count": 2,
   "id": "2288ed09-7c0a-41e6-95ff-d636344721fe",
   "metadata": {},
   "outputs": [
    {
     "name": "stdout",
     "output_type": "stream",
     "text": [
      "228 atas\n"
     ]
    }
   ],
   "source": [
    "listAtas = readdir(\"../atas\");\n",
    "corpus = []\n",
    "\n",
    "for i in 1:length(listAtas)\n",
    "    f = open(\"../atas/\" * listAtas[i])\n",
    "    txt = readlines(f)\n",
    "    push!(corpus,txt)\n",
    "end\n",
    "\n",
    "println(length(corpus), \" atas\" )"
   ]
  },
  {
   "cell_type": "markdown",
   "id": "55dbbf6c-d46c-4b80-ba64-20917c621ae0",
   "metadata": {},
   "source": [
    "### char frequency\n"
   ]
  },
  {
   "cell_type": "code",
   "execution_count": 3,
   "id": "d9644639-53ef-4e85-92b8-ae610bb6632d",
   "metadata": {},
   "outputs": [],
   "source": [
    "dict_char = Dict{Char, Int}()\n",
    "for txt in corpus\n",
    "    for char in string(txt)\n",
    "        if haskey(dict_char, char)\n",
    "         dict_char[char] += 1\n",
    "      else\n",
    "         dict_char[char] = 1\n",
    "      end\n",
    "    end\n",
    "end\n"
   ]
  },
  {
   "cell_type": "code",
   "execution_count": 4,
   "id": "ad9d2951-3a07-42fc-b8bb-39b5cda83424",
   "metadata": {},
   "outputs": [
    {
     "data": {
      "text/html": [
       "<div class=\"data-frame\"><p>20 rows × 2 columns</p><table class=\"data-frame\"><thead><tr><th></th><th>Char</th><th>n</th></tr><tr><th></th><th title=\"Any\">Any</th><th title=\"Any\">Any</th></tr></thead><tbody><tr><th>1</th><td> </td><td>1206511</td></tr><tr><th>2</th><td>e</td><td>743528</td></tr><tr><th>3</th><td>a</td><td>659885</td></tr><tr><th>4</th><td>o</td><td>614063</td></tr><tr><th>5</th><td>s</td><td>443176</td></tr><tr><th>6</th><td>r</td><td>387184</td></tr><tr><th>7</th><td>i</td><td>371433</td></tr><tr><th>8</th><td>d</td><td>356968</td></tr><tr><th>9</th><td>n</td><td>318473</td></tr><tr><th>10</th><td>t</td><td>283849</td></tr><tr><th>11</th><td>m</td><td>271189</td></tr><tr><th>12</th><td>c</td><td>206390</td></tr><tr><th>13</th><td>u</td><td>169743</td></tr><tr><th>14</th><td>,</td><td>168706</td></tr><tr><th>15</th><td>p</td><td>160866</td></tr><tr><th>16</th><td>l</td><td>156896</td></tr><tr><th>17</th><td>v</td><td>84349</td></tr><tr><th>18</th><td>ç</td><td>74344</td></tr><tr><th>19</th><td>ã</td><td>60472</td></tr><tr><th>20</th><td>&quot;</td><td>57708</td></tr></tbody></table></div>"
      ],
      "text/latex": [
       "\\begin{tabular}{r|cc}\n",
       "\t& Char & n\\\\\n",
       "\t\\hline\n",
       "\t& Any & Any\\\\\n",
       "\t\\hline\n",
       "\t1 &   & 1206511 \\\\\n",
       "\t2 & e & 743528 \\\\\n",
       "\t3 & a & 659885 \\\\\n",
       "\t4 & o & 614063 \\\\\n",
       "\t5 & s & 443176 \\\\\n",
       "\t6 & r & 387184 \\\\\n",
       "\t7 & i & 371433 \\\\\n",
       "\t8 & d & 356968 \\\\\n",
       "\t9 & n & 318473 \\\\\n",
       "\t10 & t & 283849 \\\\\n",
       "\t11 & m & 271189 \\\\\n",
       "\t12 & c & 206390 \\\\\n",
       "\t13 & u & 169743 \\\\\n",
       "\t14 & , & 168706 \\\\\n",
       "\t15 & p & 160866 \\\\\n",
       "\t16 & l & 156896 \\\\\n",
       "\t17 & v & 84349 \\\\\n",
       "\t18 & ç & 74344 \\\\\n",
       "\t19 & ã & 60472 \\\\\n",
       "\t20 & \" & 57708 \\\\\n",
       "\\end{tabular}\n"
      ],
      "text/plain": [
       "\u001b[1m20×2 DataFrame\u001b[0m\n",
       "\u001b[1m Row \u001b[0m│\u001b[1m Char \u001b[0m\u001b[1m n       \u001b[0m\n",
       "\u001b[1m     \u001b[0m│\u001b[90m Any  \u001b[0m\u001b[90m Any     \u001b[0m\n",
       "─────┼───────────────\n",
       "   1 │       1206511\n",
       "   2 │ e     743528\n",
       "   3 │ a     659885\n",
       "   4 │ o     614063\n",
       "   5 │ s     443176\n",
       "   6 │ r     387184\n",
       "   7 │ i     371433\n",
       "   8 │ d     356968\n",
       "   9 │ n     318473\n",
       "  10 │ t     283849\n",
       "  11 │ m     271189\n",
       "  12 │ c     206390\n",
       "  13 │ u     169743\n",
       "  14 │ ,     168706\n",
       "  15 │ p     160866\n",
       "  16 │ l     156896\n",
       "  17 │ v     84349\n",
       "  18 │ ç     74344\n",
       "  19 │ ã     60472\n",
       "  20 │ \"     57708"
      ]
     },
     "execution_count": 4,
     "metadata": {},
     "output_type": "execute_result"
    }
   ],
   "source": [
    "chars = [];\n",
    "frequency = [];\n",
    "for (key, value) in dict_char\n",
    "    push!(chars,key)\n",
    "    push!(frequency,value)\n",
    "end\n",
    "char_df = DataFrame(Dict(\"Char\"=>chars, \"n\"=>frequency));\n",
    "sort!(char_df, [:n, :Char], rev=[true, false])\n",
    "char_df[1:20,:]"
   ]
  },
  {
   "cell_type": "markdown",
   "id": "d34ced84-d776-4455-b675-cd327138a48f",
   "metadata": {},
   "source": [
    "### word frequency"
   ]
  },
  {
   "cell_type": "code",
   "execution_count": 5,
   "id": "50ef9b9f-d7a9-464b-9657-11c742e2a92a",
   "metadata": {},
   "outputs": [],
   "source": [
    "global aux = string(corpus[1])\n",
    "for i = 2:length(corpus)\n",
    "           global aux = aux * \" \" * string(corpus[i])\n",
    "           #aux = string(aux, \" \",list_por[i])\n",
    "       end\n"
   ]
  },
  {
   "cell_type": "code",
   "execution_count": 6,
   "id": "f295b8d2-5c87-45cf-af7a-c155b60c4733",
   "metadata": {},
   "outputs": [
    {
     "name": "stdout",
     "output_type": "stream",
     "text": [
      "20-element Named Vector{Int64}\n",
      "Dim1       │ \n",
      "───────────┼──────\n",
      "\"de\"       │ 93952\n",
      "\"a\"        │ 41197\n",
      "\"em\"       │ 39293\n",
      "\"e\"        │ 32085\n",
      "\"o\"        │ 27824\n",
      "\"do\"       │ 24770\n",
      "\"da\"       │ 21635\n",
      "\"no\"       │ 18766\n",
      "\"para\"     │ 17303\n",
      "\"que\"      │ 14345\n",
      "\"com\"      │ 11471\n",
      "\"se\"       │ 11214\n",
      "\"os\"       │  9845\n",
      "\"as\"       │  9599\n",
      "\"dos\"      │  9403\n",
      "\"na\"       │  8355\n",
      "\"preços\"   │  7942\n",
      "\"ao\"       │  7687\n",
      "\"inflação\" │  7643\n",
      "\"das\"      │  6999\n"
     ]
    }
   ],
   "source": [
    "aux = lowercase(aux)\n",
    "words = split(replace(aux, r\"\\P{L}\"i => \" \"))\n",
    "table = sort(freqtable(words); rev=true)\n",
    "println(table[1:20])"
   ]
  },
  {
   "cell_type": "raw",
   "id": "ea0bf55f-4c95-4934-863c-86f34a9cbc0e",
   "metadata": {},
   "source": [
    "bar(table[1:20])"
   ]
  },
  {
   "cell_type": "code",
   "execution_count": 7,
   "id": "52cdc08a-6306-4e54-b79e-094b7e1a16de",
   "metadata": {},
   "outputs": [
    {
     "name": "stdout",
     "output_type": "stream",
     "text": [
      "Number of stopwords: 380\n"
     ]
    }
   ],
   "source": [
    "Mystopwords = [\"de\",  \"a\",  \"o\",  \"que\",  \"e\",  \"do\",  \"da\",  \"em\",  \"um\",  \"para\",  \"com\",  \"não\",  \"uma\",  \"os\",  \"no\",  \"se\",  \"na\", \n",
    "    \"por\",  \"mais\",  \"as\",  \"dos\",  \"como\",  \"mas\",  \"ao\",  \"ele\",  \"das\",  \"à\",  \"seu\",  \"sua\",  \"ou\",  \"quando\",  \"muito\",  \"nos\",  \"já\",  \n",
    "    \"eu\",  \"também\",  \"só\",  \"pelo\",  \"pela\",  \"até\",  \"isso\",  \"ela\",  \"entre\",  \"depois\",  \"sem\",  \"mesmo\",  \"aos\",  \"seus\",  \"quem\", \n",
    "    \"nas\",  \"me\",  \"esse\",  \"eles\",  \"você\",  \"essa\",  \"num\",  \"nem\",  \"suas\",  \"meu\",  \"às\",  \"minha\",  \"numa\",  \"pelos\",  \"elas\",  \"qual\", \n",
    "    \"nós\",  \"lhe\",  \"deles\",  \"essas\",  \"esses\",  \"pelas\",  \"este\",  \"dele\",  \"tu\",  \"te\",  \"vocês\",  \"vos\",  \"lhes\",  \"meus\",  \"minhas\", \n",
    "    \"teu\",  \"tua\",  \"teus\",  \"tuas\",  \"nosso\",  \"nossa\",  \"nossos\",  \"nossas\",  \"dela\",  \"delas\",  \"esta\",  \"estes\",  \"estas\",  \"aquele\", \n",
    "    \"aquela\",  \"aqueles\",  \"aquelas\",  \"isto\",  \"aquilo\",  \"estou\",  \"está\",  \"estamos\",  \"estão\",  \"estive\",  \"esteve\",  \"estivemos\", \n",
    "    \"estiveram\",  \"estava\",  \"estávamos\",  \"estavam\",  \"estivera\",  \"estivéramos\",  \"esteja\",  \"estejamos\",  \"estejam\",  \"estivesse\", \n",
    "    \"estivéssemos\",  \"estivessem\",  \"estiver\",  \"estivermos\",  \"estiverem\",  \"hei\",  \"há\",  \"havemos\",  \"hão\",  \"houve\",  \"houvemos\",  \n",
    "    \"houveram\",  \"houvera\",  \"houvéramos\",  \"haja\",  \"hajamos\",  \"hajam\",  \"houvesse\",  \"houvéssemos\",  \"houvessem\",  \"houver\", \n",
    "    \"houvermos\",  \"houverem\",  \"houverei\",  \"houverá\",  \"houveremos\",  \"houverão\",  \"houveria\",  \"houveríamos\",  \"houveriam\",  \"sou\",  \n",
    "    \"somos\",  \"são\",  \"era\",  \"éramos\",  \"eram\",  \"fui\",  \"foi\",  \"fomos\",  \"foram\",  \"fora\",  \"fôramos\",  \"seja\",  \"sejamos\",  \"sejam\", \n",
    "    \"fosse\",  \"fôssemos\",  \"fossem\",  \"for\",  \"formos\",  \"forem\",  \"serei\",  \"será\",  \"seremos\",  \"serão\",  \"seria\",  \"seríamos\",  \"seriam\", \n",
    "    \"tenho\",  \"tem\",  \"temos\",  \"tém\",  \"tinha\",  \"tínhamos\",  \"tinham\",  \"tive\",  \"teve\",  \"tivemos\",  \"tiveram\",  \"tivera\",  \"tivéramos\", \n",
    "    \"tenha\",  \"tenhamos\",  \"tenham\",  \"tivesse\",  \"tivéssemos\",  \"tivessem\",  \"tiver\",  \"tivermos\",  \"tiverem\",  \"terei\",  \"terá\",  \"teremos\",\n",
    "    \"terão\",  \"teria\",  \"teríamos\",  \"teriam\", \"sobre\",\"então\",\"onde\",\"pra\",\"vamos\",\"lá\",\"sim\",\"não\",\"bem\",\"tudo\",\"agora\",\"aqui\",\"é\",\n",
    "    \"acordar\",\"agora\",\"ainda\",\"aladi\",\"alegrar\",\"além\",\"antar\",\"ante\",\"anthero\",\"antonio\",\"apenas\",\"apesar\",\"apresentação\",\"aquém\",\"araújo\",\"cada\",\"capitar\",\"carioca\",\"carteiro\",\"contra\",\"corpus\",\"corrêa\",\"costa\",\"daquela\",\"demais\",\"diante\",\"edson\",\"entanto\",\"estar\",\"estevar\",\"então\",\"feltrim\",\"final\",\"finar\",\"geral\",\"içar\",\"ie\",\"intuito\",\n",
    "\"le\",\"luiz\",\"luzir\",\"mediante\",\"meirelles\",\"mercar\",\"moraes\",\"necessariamente\",\"neto\",\"of\",\"oficiar\",\"oliveira\",\"onde\",\"ora\",\"parir\",\"paulo\",\"pelar\",\"pesar\",\"pilar\",\"pois\",\"primo\",\"quadrar\",\"reinar\",\"res\",\"resinar\",\"reunião\",\"ser\",\"sob\",\"sobre\",\"somente\",\"sr\",\"tal\",\"tais\",\"tanto\",\"thomson\",\"tipo\",\"todo\",\"tony\",\"usecheque\",\"vasconcelos\",\n",
    "\"a\",\"b\",\"c\",\"d\",\"e\",\"f\",\"g\",\"h\",\"i\",\"j\",\"k\",\"l\",\"m\",\"n\",\"o\",\"p\",\"q\",\"r\",\"s\",\"t\",\"u\",\"v\",\"w\",\"x\",\"y\",\"z\",\n",
    "\"um\",\"dois\",\"três\",\"quatro\",\"cinco\",\"seis\",\"sete\",\"oito\",\"nove\",\"dez\",\"onze\",\"doze\",\"treze\",\"catorze\",\"quinze\",\"dezesseis\",\"dezessete\",\"dezoito\",\"dezenove\",\"vinte\",\n",
    "\"aquela\",\"aquelas\",\"aquele\",\"aqueles\",\"àquela\",\"àquelas\",\"daquele\",\"daqueles\",\"daquela\",\"daquelas\",\"naquele\",\"naqueles\",\"naquela\",\"naquelas\",\"neste\",\"nesta\",\"nestes\",\"nestas\",\"nisto\",\"nesse\",\"nessa\",\"nesses\",\"nessas\",\"nisso\",\n",
    "\"janeiro\",\"fevereiro\",\"março\",\"abril\",\"maio\",\"junho\",\"julho\",\"agosto\",\"setembro\",\"outubro\",\"novembro\",\"dezembro\",\"mês\",\"meses\",\"ano\",\"anos\"]\n",
    "\n",
    "println(\"Number of stopwords: \",length(Mystopwords))"
   ]
  },
  {
   "cell_type": "code",
   "execution_count": 8,
   "id": "0dddd4fc-3212-4f34-a887-fd1a9371c44e",
   "metadata": {},
   "outputs": [
    {
     "name": "stdout",
     "output_type": "stream",
     "text": [
      "1135848\n",
      "579085\n"
     ]
    }
   ],
   "source": [
    "words_without_stopwords = []\n",
    "for w in words\n",
    "    if ~(w in Mystopwords)\n",
    "        push!(words_without_stopwords, w)\n",
    "    end\n",
    "end\n",
    "println(length(words))\n",
    "println(length(words_without_stopwords))"
   ]
  },
  {
   "cell_type": "code",
   "execution_count": 9,
   "id": "b62c499e-7b7c-4c35-860b-e3de7d6d657a",
   "metadata": {},
   "outputs": [
    {
     "name": "stdout",
     "output_type": "stream",
     "text": [
      "20-element Named Vector{Int64}\n",
      "Dim1          │ \n",
      "──────────────┼─────\n",
      "\"preços\"      │ 7942\n",
      "\"inflação\"    │ 7643\n",
      "\"taxa\"        │ 4563\n",
      "\"relação\"     │ 4330\n",
      "\"copom\"       │ 4001\n",
      "\"bilhões\"     │ 3949\n",
      "\"crescimento\" │ 3696\n",
      "\"produção\"    │ 3349\n",
      "\"bens\"        │ 3326\n",
      "\"período\"     │ 3127\n",
      "\"anterior\"    │ 3109\n",
      "\"cenário\"     │ 3101\n",
      "\"política\"    │ 3040\n",
      "\"us\"          │ 2979\n",
      "\"monetária\"   │ 2933\n",
      "\"índice\"      │ 2680\n",
      "\"expansão\"    │ 2523\n",
      "\"mercado\"     │ 2490\n",
      "\"economia\"    │ 2378\n",
      "\"aumento\"     │ 2367\n"
     ]
    }
   ],
   "source": [
    "table2 = sort(freqtable(words_without_stopwords); rev=true)\n",
    "println(table2[1:20])"
   ]
  },
  {
   "cell_type": "raw",
   "id": "87b4634f-23be-40c0-ae19-936670b4abd0",
   "metadata": {},
   "source": [
    "bar(table2[1:20])"
   ]
  },
  {
   "cell_type": "markdown",
   "id": "261543de-1f1a-4a08-b27c-cf62b8034e8a",
   "metadata": {},
   "source": [
    "### bigram"
   ]
  },
  {
   "cell_type": "code",
   "execution_count": 10,
   "id": "d4c51167-65f2-47fa-941e-dc57be8fa68d",
   "metadata": {},
   "outputs": [],
   "source": [
    "dict_bigram = Dict{Any, Any}()\n",
    "for sent in corpus\n",
    "    doc = StringDocument(lowercase(string(sent)))\n",
    "    dict = ngrams(doc, 2) #this function includes 1-gram and 2-grams\n",
    "    for k in dict\n",
    "        if ' ' in k[1] # exclude 1-gram\n",
    "            if haskey(dict_bigram, k[1])\n",
    "                dict_bigram[k[1]] += k[2]\n",
    "            else\n",
    "                dict_bigram[k[1]] = k[2]\n",
    "            end\n",
    "        end\n",
    "    end\n",
    "end"
   ]
  },
  {
   "cell_type": "code",
   "execution_count": 11,
   "id": "bb30ee4d-583f-4732-b879-5ebdcf3b3ad6",
   "metadata": {},
   "outputs": [
    {
     "data": {
      "text/html": [
       "<div class=\"data-frame\"><p>20 rows × 2 columns</p><table class=\"data-frame\"><thead><tr><th></th><th>Bigram</th><th>n</th></tr><tr><th></th><th title=\"Any\">Any</th><th title=\"Any\">Any</th></tr></thead><tbody><tr><th>1</th><td>&quot; ,</td><td>28557</td></tr><tr><th>2</th><td>, &quot;</td><td>28529</td></tr><tr><th>3</th><td>&quot; &quot;</td><td>14735</td></tr><tr><th>4</th><td>% em</td><td>10866</td></tr><tr><th>5</th><td>, o</td><td>6829</td></tr><tr><th>6</th><td>, a</td><td>6111</td></tr><tr><th>7</th><td>% ,</td><td>6064</td></tr><tr><th>8</th><td>\\\\ $</td><td>5633</td></tr><tr><th>9</th><td>, em</td><td>4993</td></tr><tr><th>10</th><td>% no</td><td>4618</td></tr><tr><th>11</th><td>para a</td><td>4480</td></tr><tr><th>12</th><td>e de</td><td>4222</td></tr><tr><th>13</th><td>em relação</td><td>4106</td></tr><tr><th>14</th><td>, com</td><td>3675</td></tr><tr><th>15</th><td>, e</td><td>3176</td></tr><tr><th>16</th><td>) ,</td><td>3019</td></tr><tr><th>17</th><td>, de</td><td>3010</td></tr><tr><th>18</th><td>. o</td><td>3010</td></tr><tr><th>19</th><td>, que</td><td>2901</td></tr><tr><th>20</th><td>us \\\\</td><td>2818</td></tr></tbody></table></div>"
      ],
      "text/latex": [
       "\\begin{tabular}{r|cc}\n",
       "\t& Bigram & n\\\\\n",
       "\t\\hline\n",
       "\t& Any & Any\\\\\n",
       "\t\\hline\n",
       "\t1 & \" , & 28557 \\\\\n",
       "\t2 & , \" & 28529 \\\\\n",
       "\t3 & \" \" & 14735 \\\\\n",
       "\t4 & \\% em & 10866 \\\\\n",
       "\t5 & , o & 6829 \\\\\n",
       "\t6 & , a & 6111 \\\\\n",
       "\t7 & \\% , & 6064 \\\\\n",
       "\t8 & \\textbackslash{}\\textbackslash{} \\$ & 5633 \\\\\n",
       "\t9 & , em & 4993 \\\\\n",
       "\t10 & \\% no & 4618 \\\\\n",
       "\t11 & para a & 4480 \\\\\n",
       "\t12 & e de & 4222 \\\\\n",
       "\t13 & em relação & 4106 \\\\\n",
       "\t14 & , com & 3675 \\\\\n",
       "\t15 & , e & 3176 \\\\\n",
       "\t16 & ) , & 3019 \\\\\n",
       "\t17 & , de & 3010 \\\\\n",
       "\t18 & . o & 3010 \\\\\n",
       "\t19 & , que & 2901 \\\\\n",
       "\t20 & us \\textbackslash{}\\textbackslash{} & 2818 \\\\\n",
       "\\end{tabular}\n"
      ],
      "text/plain": [
       "\u001b[1m20×2 DataFrame\u001b[0m\n",
       "\u001b[1m Row \u001b[0m│\u001b[1m Bigram     \u001b[0m\u001b[1m n     \u001b[0m\n",
       "\u001b[1m     \u001b[0m│\u001b[90m Any        \u001b[0m\u001b[90m Any   \u001b[0m\n",
       "─────┼───────────────────\n",
       "   1 │ \" ,         28557\n",
       "   2 │ , \"         28529\n",
       "   3 │ \" \"         14735\n",
       "   4 │ % em        10866\n",
       "   5 │ , o         6829\n",
       "   6 │ , a         6111\n",
       "   7 │ % ,         6064\n",
       "   8 │ \\\\ $        5633\n",
       "   9 │ , em        4993\n",
       "  10 │ % no        4618\n",
       "  11 │ para a      4480\n",
       "  12 │ e de        4222\n",
       "  13 │ em relação  4106\n",
       "  14 │ , com       3675\n",
       "  15 │ , e         3176\n",
       "  16 │ ) ,         3019\n",
       "  17 │ , de        3010\n",
       "  18 │ . o         3010\n",
       "  19 │ , que       2901\n",
       "  20 │ us \\\\       2818"
      ]
     },
     "execution_count": 11,
     "metadata": {},
     "output_type": "execute_result"
    }
   ],
   "source": [
    "bigrams = [];\n",
    "frequency = [];\n",
    "for (key, value) in dict_bigram\n",
    "    push!(bigrams,key)\n",
    "    push!(frequency,value)\n",
    "end\n",
    "bigram_df = DataFrame(Dict(\"Bigram\"=>bigrams, \"n\"=>frequency));\n",
    "sort!(bigram_df, [:n, :Bigram], rev=[true, false])\n",
    "bigram_df[1:20,:]"
   ]
  },
  {
   "cell_type": "raw",
   "id": "98eaec82-c908-4fed-b6c0-55b64e541f68",
   "metadata": {},
   "source": [
    "bar(bigram_df.n[1:20])"
   ]
  },
  {
   "cell_type": "markdown",
   "id": "07d62d57-c16a-4fd2-acd8-91a424349300",
   "metadata": {},
   "source": [
    "### trigram"
   ]
  },
  {
   "cell_type": "code",
   "execution_count": 12,
   "id": "9c95d0e3-c5db-4295-a6d7-d4d18596a15c",
   "metadata": {},
   "outputs": [],
   "source": [
    "dict_trigram = Dict{Any, Any}()\n",
    "for sent in corpus\n",
    "    doc = StringDocument(lowercase(string(sent)))\n",
    "    dict = ngrams(doc, 3) #this function includes 1-gram, 2-grams and 3-grams\n",
    "    for k in dict\n",
    "        if count( c-> (c == ' ') , k[1]) == 2 # exclude 1-gram and 2-gram\n",
    "            if haskey(dict_trigram, k[1])\n",
    "                dict_trigram[k[1]] += k[2]\n",
    "            else\n",
    "                dict_trigram[k[1]] = k[2]\n",
    "            end\n",
    "        end\n",
    "    end\n",
    "end"
   ]
  },
  {
   "cell_type": "code",
   "execution_count": 13,
   "id": "b7979aad-fd77-4eed-9b75-8f20f00587eb",
   "metadata": {},
   "outputs": [
    {
     "data": {
      "text/html": [
       "<div class=\"data-frame\"><p>20 rows × 2 columns</p><table class=\"data-frame\"><thead><tr><th></th><th>Trigram</th><th>n</th></tr><tr><th></th><th title=\"Any\">Any</th><th title=\"Any\">Any</th></tr></thead><tbody><tr><th>1</th><td>&quot; , &quot;</td><td>28529</td></tr><tr><th>2</th><td>, &quot; &quot;</td><td>14735</td></tr><tr><th>3</th><td>&quot; &quot; ,</td><td>14732</td></tr><tr><th>4</th><td>us \\\\ $</td><td>2818</td></tr><tr><th>5</th><td>r \\\\ $</td><td>2644</td></tr><tr><th>6</th><td>. &quot; ,</td><td>2253</td></tr><tr><th>7</th><td>de bens de</td><td>1645</td></tr><tr><th>8</th><td>em relação ao</td><td>1596</td></tr><tr><th>9</th><td>em doze meses</td><td>1569</td></tr><tr><th>10</th><td>em relação a</td><td>1328</td></tr><tr><th>11</th><td>de acordo com</td><td>1225</td></tr><tr><th>12</th><td>bens de capital</td><td>1163</td></tr><tr><th>13</th><td>para a inflação</td><td>1130</td></tr><tr><th>14</th><td>a taxa de</td><td>1090</td></tr><tr><th>15</th><td>de us \\\\</td><td>1083</td></tr><tr><th>16</th><td>o índice de</td><td>1037</td></tr><tr><th>17</th><td>% em doze</td><td>1000</td></tr><tr><th>18</th><td>% no mês</td><td>946</td></tr><tr><th>19</th><td>% em relação</td><td>945</td></tr><tr><th>20</th><td>de r \\\\</td><td>944</td></tr></tbody></table></div>"
      ],
      "text/latex": [
       "\\begin{tabular}{r|cc}\n",
       "\t& Trigram & n\\\\\n",
       "\t\\hline\n",
       "\t& Any & Any\\\\\n",
       "\t\\hline\n",
       "\t1 & \" , \" & 28529 \\\\\n",
       "\t2 & , \" \" & 14735 \\\\\n",
       "\t3 & \" \" , & 14732 \\\\\n",
       "\t4 & us \\textbackslash{}\\textbackslash{} \\$ & 2818 \\\\\n",
       "\t5 & r \\textbackslash{}\\textbackslash{} \\$ & 2644 \\\\\n",
       "\t6 & . \" , & 2253 \\\\\n",
       "\t7 & de bens de & 1645 \\\\\n",
       "\t8 & em relação ao & 1596 \\\\\n",
       "\t9 & em doze meses & 1569 \\\\\n",
       "\t10 & em relação a & 1328 \\\\\n",
       "\t11 & de acordo com & 1225 \\\\\n",
       "\t12 & bens de capital & 1163 \\\\\n",
       "\t13 & para a inflação & 1130 \\\\\n",
       "\t14 & a taxa de & 1090 \\\\\n",
       "\t15 & de us \\textbackslash{}\\textbackslash{} & 1083 \\\\\n",
       "\t16 & o índice de & 1037 \\\\\n",
       "\t17 & \\% em doze & 1000 \\\\\n",
       "\t18 & \\% no mês & 946 \\\\\n",
       "\t19 & \\% em relação & 945 \\\\\n",
       "\t20 & de r \\textbackslash{}\\textbackslash{} & 944 \\\\\n",
       "\\end{tabular}\n"
      ],
      "text/plain": [
       "\u001b[1m20×2 DataFrame\u001b[0m\n",
       "\u001b[1m Row \u001b[0m│\u001b[1m Trigram         \u001b[0m\u001b[1m n     \u001b[0m\n",
       "\u001b[1m     \u001b[0m│\u001b[90m Any             \u001b[0m\u001b[90m Any   \u001b[0m\n",
       "─────┼────────────────────────\n",
       "   1 │ \" , \"            28529\n",
       "   2 │ , \" \"            14735\n",
       "   3 │ \" \" ,            14732\n",
       "   4 │ us \\\\ $          2818\n",
       "   5 │ r \\\\ $           2644\n",
       "   6 │ . \" ,            2253\n",
       "   7 │ de bens de       1645\n",
       "   8 │ em relação ao    1596\n",
       "   9 │ em doze meses    1569\n",
       "  10 │ em relação a     1328\n",
       "  11 │ de acordo com    1225\n",
       "  12 │ bens de capital  1163\n",
       "  13 │ para a inflação  1130\n",
       "  14 │ a taxa de        1090\n",
       "  15 │ de us \\\\         1083\n",
       "  16 │ o índice de      1037\n",
       "  17 │ % em doze        1000\n",
       "  18 │ % no mês         946\n",
       "  19 │ % em relação     945\n",
       "  20 │ de r \\\\          944"
      ]
     },
     "execution_count": 13,
     "metadata": {},
     "output_type": "execute_result"
    }
   ],
   "source": [
    "trigrams = [];\n",
    "frequency = [];\n",
    "for (key, value) in dict_trigram\n",
    "    push!(trigrams,key)\n",
    "    push!(frequency,value)\n",
    "end\n",
    "trigram_df = DataFrame(Dict(\"Trigram\"=>trigrams, \"n\"=>frequency));\n",
    "sort!(trigram_df, [:n, :Trigram], rev=[true, false])\n",
    "trigram_df[1:20,:]"
   ]
  },
  {
   "cell_type": "raw",
   "id": "9f94d18f-1460-4b05-a7d9-1924c23cda1f",
   "metadata": {},
   "source": [
    "bar(trigram_df.n[1:20])"
   ]
  }
 ],
 "metadata": {
  "kernelspec": {
   "display_name": "Julia 1.6.2",
   "language": "julia",
   "name": "julia-1.6"
  },
  "language_info": {
   "file_extension": ".jl",
   "mimetype": "application/julia",
   "name": "julia",
   "version": "1.7.3"
  }
 },
 "nbformat": 4,
 "nbformat_minor": 5
}
