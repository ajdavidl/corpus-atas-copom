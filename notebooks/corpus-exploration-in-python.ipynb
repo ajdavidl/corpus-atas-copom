{
 "cells": [
  {
   "cell_type": "code",
   "execution_count": null,
   "id": "1734e835-cd24-46c3-9543-4f31e6ac0113",
   "metadata": {},
   "outputs": [],
   "source": [
    "import re\n",
    "import nltk\n",
    "import spacy\n",
    "import os\n",
    "from sklearn.feature_extraction.text import CountVectorizer\n",
    "import matplotlib.pyplot as plt\n",
    "import numpy as np\n",
    "import pandas as pd\n",
    "import wordcloud\n",
    "from collections import Counter\n",
    "\n",
    "%matplotlib inline\n",
    "plt.rcParams[\"figure.figsize\"] = (15,8)"
   ]
  },
  {
   "cell_type": "code",
   "execution_count": null,
   "id": "fb994192-417b-44b1-a665-0ebdb5b74f66",
   "metadata": {},
   "outputs": [],
   "source": [
    "listAtas = os.listdir(\"../atas\")"
   ]
  },
  {
   "cell_type": "code",
   "execution_count": null,
   "id": "263eface-cc66-4a6e-a6f0-a7108fb02274",
   "metadata": {},
   "outputs": [],
   "source": [
    "corpus = []\n",
    "\n",
    "for ata in listAtas:\n",
    "    with open(\"../atas/\" + ata,'rt', encoding='utf-8') as f:\n",
    "        lines = f.readlines()\n",
    "        if lines: \n",
    "            lines = ' '.join(lines)\n",
    "            corpus.append(lines)\n",
    "\n",
    "print(len(corpus),\"atas\")"
   ]
  },
  {
   "cell_type": "markdown",
   "id": "4fd6aee9-c301-461a-893a-4fec616eafc2",
   "metadata": {},
   "source": [
    "# Corpus Characteristics "
   ]
  },
  {
   "cell_type": "code",
   "execution_count": null,
   "id": "1f88844f-c918-4a8b-a44a-649f4841405b",
   "metadata": {},
   "outputs": [],
   "source": [
    "%%time\n",
    "corpusJoined = ' '.join(corpus)\n",
    "corpusJoinedWithoutPunctuation =  re.sub(r'[^\\w\\s]','',corpusJoined)\n",
    "corupsWordTokenized = nltk.word_tokenize(corpusJoined)\n",
    "corupsWordTokenizedWithoutPunctuation = nltk.word_tokenize(corpusJoinedWithoutPunctuation)\n",
    "corpusJoinedWithoutSpaces = re.sub(' ','', corpusJoined)\n",
    "corpusSentences = nltk.tokenize.sent_tokenize(corpusJoined)"
   ]
  },
  {
   "cell_type": "code",
   "execution_count": null,
   "id": "a7d760e1-d520-4b79-9d72-c503f0f84f8a",
   "metadata": {},
   "outputs": [],
   "source": [
    "print(\"Number of characters with spaces: \", len(corpusJoined))\n",
    "print(\"Number of characters without spaces: \", len(corpusJoinedWithoutSpaces))\n",
    "print(\"Number of words: \",len(corupsWordTokenizedWithoutPunctuation))\n",
    "print(\"Number of sentences: \", len(corpusSentences))\n",
    "print(\"Number of characters per words: \", len(corpusJoinedWithoutSpaces)/len(corupsWordTokenizedWithoutPunctuation))\n",
    "print(\"Number of words per sentence: \", len(corupsWordTokenizedWithoutPunctuation)/len(corpusSentences))"
   ]
  },
  {
   "cell_type": "markdown",
   "id": "949e26d9-1486-4a33-b6cf-16707af28047",
   "metadata": {},
   "source": [
    "# Frequencies "
   ]
  },
  {
   "cell_type": "code",
   "execution_count": null,
   "id": "eebf7a73-2ad0-4162-94c6-2d1be856f6c0",
   "metadata": {},
   "outputs": [],
   "source": [
    "corpusJoined = corpusJoined.lower()\n",
    "for i in range(0,len(corpus)):\n",
    "    corpus[i]=corpus[i].lower()\n",
    "    corpus[i] = re.sub('\\n','',corpus[i]) #remove newline character"
   ]
  },
  {
   "cell_type": "code",
   "execution_count": null,
   "id": "45bb7762-891b-46b9-b394-0dc4f5ff84a9",
   "metadata": {},
   "outputs": [],
   "source": [
    "Mystopwords = ['ainda','ante','p','r','sobre'] + ['janeiro','fevereiro','março','abril','maio','junho','julho','agosto','setembro','outubro','novembro','dezembro','mês','meses','ano','anos'] + [str(i) for i in range(10)] + nltk.corpus.stopwords.words('portuguese')\n"
   ]
  },
  {
   "cell_type": "markdown",
   "id": "7e628204-6cee-41fb-bd18-a1a86ae42a65",
   "metadata": {
    "tags": []
   },
   "source": [
    "## Character frequency "
   ]
  },
  {
   "cell_type": "code",
   "execution_count": null,
   "id": "fffc3c05-d5d5-48b6-9fa3-085e07b1b525",
   "metadata": {},
   "outputs": [],
   "source": [
    "charCountVect = CountVectorizer(analyzer='char')\n",
    "charCountVect.fit(corpus);"
   ]
  },
  {
   "cell_type": "code",
   "execution_count": null,
   "id": "91cbee9f-ba94-4e1e-828f-99634143ce25",
   "metadata": {},
   "outputs": [],
   "source": [
    "bagOfChar = charCountVect.transform(corpus)\n",
    "sumChars = bagOfChar.sum(axis=0)\n",
    "charsFreq = [(char, sumChars[0, idx]) for char, idx in charCountVect.vocabulary_.items()]\n",
    "charsFreq =sorted(charsFreq, key = lambda x: x[1], reverse=True)"
   ]
  },
  {
   "cell_type": "code",
   "execution_count": null,
   "id": "c73ddada-deed-4117-af09-65eddc317ed3",
   "metadata": {},
   "outputs": [],
   "source": [
    "numberOfChars = 20\n",
    "yPos = np.arange(numberOfChars)\n",
    "objects = []\n",
    "performance = []\n",
    "for i in range(numberOfChars):\n",
    "    aux = charsFreq[i]\n",
    "    objects.append(aux[0])\n",
    "    performance.append(aux[1])"
   ]
  },
  {
   "cell_type": "code",
   "execution_count": null,
   "id": "4d14ce7c-b8a5-4ff5-9c29-bdd3d7359270",
   "metadata": {},
   "outputs": [],
   "source": [
    "pd.Series(performance, index = objects, name = \"Frequency\").to_frame()"
   ]
  },
  {
   "cell_type": "code",
   "execution_count": null,
   "id": "147e3cef-f562-4cec-889e-2d8a4a76a65d",
   "metadata": {},
   "outputs": [],
   "source": [
    "#horizontal bars\n",
    "plt.barh(yPos, performance, align='center', alpha=0.5)\n",
    "plt.yticks(yPos, objects)\n",
    "plt.xlabel('Frequency')\n",
    "plt.ylabel('Characters')\n",
    "plt.title('Character Frequency')\n",
    "plt.show()\n"
   ]
  },
  {
   "cell_type": "markdown",
   "id": "d8a3dea1-a055-489e-9b96-5c5ce67b86cc",
   "metadata": {},
   "source": [
    "## Word Frequency"
   ]
  },
  {
   "cell_type": "code",
   "execution_count": null,
   "id": "7e08502c-cf8f-4bc6-9b6c-e81dac141033",
   "metadata": {},
   "outputs": [],
   "source": [
    "# number of words in the barplots\n",
    "numberOfWords = 20"
   ]
  },
  {
   "cell_type": "markdown",
   "id": "68f3c3fe-f821-4aef-9916-e170fc86b773",
   "metadata": {},
   "source": [
    "### With stop words"
   ]
  },
  {
   "cell_type": "code",
   "execution_count": null,
   "id": "724e06a6-78fe-4e44-b533-d9ae8ec76f43",
   "metadata": {},
   "outputs": [],
   "source": [
    "wordCountVect = CountVectorizer(analyzer='word', token_pattern=r'\\w{1,}')\n",
    "wordCountVect.fit(corpus);"
   ]
  },
  {
   "cell_type": "code",
   "execution_count": null,
   "id": "efe682d5-fbe6-454d-aa00-44dd82a40861",
   "metadata": {},
   "outputs": [],
   "source": [
    "bagOfWords = wordCountVect.transform(corpus)\n",
    "sumWords = bagOfWords.sum(axis=0)\n",
    "wordsFreq = [(word, sumWords[0, idx]) for word, idx in wordCountVect.vocabulary_.items()]\n",
    "wordsFreq =sorted(wordsFreq, key = lambda x: x[1], reverse=True)"
   ]
  },
  {
   "cell_type": "code",
   "execution_count": null,
   "id": "8f384690-0ff5-48ab-95db-dcafbf13ebfa",
   "metadata": {},
   "outputs": [],
   "source": [
    "yPos = np.arange(numberOfWords)\n",
    "objects = []\n",
    "performance = []\n",
    "for i in range(numberOfWords):\n",
    "    aux = wordsFreq[i]\n",
    "    objects.append(aux[0])\n",
    "    performance.append(aux[1])\n"
   ]
  },
  {
   "cell_type": "code",
   "execution_count": null,
   "id": "2c16edb2-392b-4e45-af4f-2471e3d124a1",
   "metadata": {},
   "outputs": [],
   "source": [
    "pd.Series(performance, index = objects, name = \"Frequency\").to_frame()"
   ]
  },
  {
   "cell_type": "code",
   "execution_count": null,
   "id": "7cd7f164-2b2e-4172-832c-afdb757f49f1",
   "metadata": {},
   "outputs": [],
   "source": [
    "plt.barh(yPos, performance, align='center', alpha=0.5)\n",
    "plt.yticks(yPos, objects)\n",
    "plt.xlabel('Frequency')\n",
    "plt.ylabel('Words')\n",
    "plt.title('Word Frequency with stop words')\n",
    "plt.show()\n"
   ]
  },
  {
   "cell_type": "markdown",
   "id": "d880af9c-250f-402b-b31b-3ddbd18d61f9",
   "metadata": {},
   "source": [
    "### Wordcloud with stop words"
   ]
  },
  {
   "cell_type": "code",
   "execution_count": null,
   "id": "111cc471-5a0f-442d-84bc-5ace2dffeb48",
   "metadata": {},
   "outputs": [],
   "source": [
    "cloud = wordcloud.WordCloud(max_font_size=50, max_words=100, background_color=\"white\").generate(corpusJoined)\n",
    "plt.imshow(cloud, interpolation='bilinear')\n",
    "plt.axis(\"off\")\n",
    "plt.show()"
   ]
  },
  {
   "cell_type": "markdown",
   "id": "82c161e9-5af5-4b76-992e-45249c0c0394",
   "metadata": {},
   "source": [
    "### Without stop words"
   ]
  },
  {
   "cell_type": "code",
   "execution_count": null,
   "id": "b8cf699a-4d99-42d3-8423-ca329ea3a9c2",
   "metadata": {},
   "outputs": [],
   "source": [
    "wordCountVect2 = CountVectorizer(analyzer='word', token_pattern=r'\\w{1,}', stop_words = Mystopwords)\n",
    "wordCountVect2.fit(corpus);"
   ]
  },
  {
   "cell_type": "code",
   "execution_count": null,
   "id": "b08af0c6-1881-41f7-ad19-4ab28c415e92",
   "metadata": {},
   "outputs": [],
   "source": [
    "bagOfWords2 = wordCountVect2.transform(corpus)\n",
    "sumWords2 = bagOfWords2.sum(axis=0)\n",
    "wordsFreq2 = [(word, sumWords2[0, idx]) for word, idx in wordCountVect2.vocabulary_.items()]\n",
    "wordsFreq2 =sorted(wordsFreq2, key = lambda x: x[1], reverse=True)"
   ]
  },
  {
   "cell_type": "code",
   "execution_count": null,
   "id": "3c76d311-eb28-4519-8f6e-77ba81707dd2",
   "metadata": {},
   "outputs": [],
   "source": [
    "yPos = np.arange(numberOfWords)\n",
    "objects = []\n",
    "performance = []\n",
    "for i in range(numberOfWords):\n",
    "    aux = wordsFreq2[i]\n",
    "    objects.append(aux[0])\n",
    "    performance.append(aux[1])"
   ]
  },
  {
   "cell_type": "code",
   "execution_count": null,
   "id": "ee8e7396-362f-4917-9c5e-412b99fd874e",
   "metadata": {},
   "outputs": [],
   "source": [
    "pd.Series(performance, index = objects, name = \"Frequency\").to_frame()"
   ]
  },
  {
   "cell_type": "code",
   "execution_count": null,
   "id": "b27f4392-7b12-422c-9c66-cf572749578c",
   "metadata": {},
   "outputs": [],
   "source": [
    "plt.barh(yPos, performance, align='center', alpha=0.5)\n",
    "plt.yticks(yPos, objects)\n",
    "plt.xlabel('Frequency')\n",
    "plt.ylabel('Words')\n",
    "plt.title('Word Frequency without stop words')\n",
    "plt.show()"
   ]
  },
  {
   "cell_type": "markdown",
   "id": "8ef32c62-c716-4aee-a5bb-2e6c29573896",
   "metadata": {},
   "source": [
    "### Wordcloud without stop words"
   ]
  },
  {
   "cell_type": "code",
   "execution_count": null,
   "id": "2e255852-3988-476a-a34c-d40d21a1d954",
   "metadata": {},
   "outputs": [],
   "source": [
    "cloud = wordcloud.WordCloud(stopwords=Mystopwords, max_font_size=50, max_words=100, background_color=\"white\").generate(''.join(corpus))\n",
    "plt.imshow(cloud, interpolation='bilinear')\n",
    "plt.axis(\"off\")\n",
    "plt.show()"
   ]
  },
  {
   "cell_type": "markdown",
   "id": "1fdde76d-da81-4234-96e6-a9bb3d51dc20",
   "metadata": {},
   "source": [
    "## Bigram Frequency\n",
    " "
   ]
  },
  {
   "cell_type": "markdown",
   "id": "4b374e27-971b-46cb-89b1-bb729d968410",
   "metadata": {},
   "source": [
    "### With stop words"
   ]
  },
  {
   "cell_type": "code",
   "execution_count": null,
   "id": "a7eeea46-67a0-404c-baa2-e8532024ca87",
   "metadata": {},
   "outputs": [],
   "source": [
    "numberOfBigrams = 20"
   ]
  },
  {
   "cell_type": "code",
   "execution_count": null,
   "id": "5ad925a2-fecd-40ff-87f4-166f7d7f1520",
   "metadata": {},
   "outputs": [],
   "source": [
    "bigramCountVect = CountVectorizer(analyzer='word', ngram_range=(2, 2))\n",
    "bigramCountVect.fit(corpus);"
   ]
  },
  {
   "cell_type": "code",
   "execution_count": null,
   "id": "6e40fe6c-d29d-4488-a3ca-f480ef6c012f",
   "metadata": {},
   "outputs": [],
   "source": [
    "bagOfBigrams = bigramCountVect.transform(corpus)\n",
    "sumBigrams = bagOfBigrams.sum(axis=0)\n",
    "bigramsFreq = [(bigram, sumBigrams[0, idx]) for bigram, idx in bigramCountVect.vocabulary_.items()]\n",
    "bigramsFreq =sorted(bigramsFreq, key = lambda x: x[1], reverse=True)"
   ]
  },
  {
   "cell_type": "code",
   "execution_count": null,
   "id": "30e5a373-c756-434b-a050-baf976a96f97",
   "metadata": {},
   "outputs": [],
   "source": [
    "yPos = np.arange(numberOfBigrams)\n",
    "objects = []\n",
    "performance = []\n",
    "for i in range(numberOfBigrams):\n",
    "    aux = bigramsFreq[i]\n",
    "    objects.append(aux[0])\n",
    "    performance.append(aux[1])"
   ]
  },
  {
   "cell_type": "code",
   "execution_count": null,
   "id": "bd767db3-646e-4512-9767-6397b8381872",
   "metadata": {},
   "outputs": [],
   "source": [
    "pd.Series(performance, index = objects, name = \"Frequency\").to_frame()"
   ]
  },
  {
   "cell_type": "code",
   "execution_count": null,
   "id": "57401e8b-9df0-455d-8752-6bf7b1f12ba3",
   "metadata": {},
   "outputs": [],
   "source": [
    "plt.barh(yPos, performance, align='center', alpha=0.5)\n",
    "plt.yticks(yPos, objects)\n",
    "plt.xlabel('Frequency')\n",
    "plt.ylabel('Bigrams')\n",
    "plt.title('Bigrams Frequency with stop words')\n",
    "plt.show()\n"
   ]
  },
  {
   "cell_type": "markdown",
   "id": "bfc9292b-6eaa-4c1d-a6c4-aa45acecca30",
   "metadata": {},
   "source": [
    "### bigram cloud with stop words"
   ]
  },
  {
   "cell_type": "code",
   "execution_count": null,
   "id": "4ac3dc1d-0dec-4585-aa0e-2b094b51b6e6",
   "metadata": {},
   "outputs": [],
   "source": [
    "cloud = wordcloud.WordCloud(max_font_size=50, max_words=100, background_color=\"white\").generate_from_frequencies(dict(bigramsFreq))\n",
    "plt.imshow(cloud, interpolation='bilinear')\n",
    "plt.axis(\"off\")\n",
    "plt.show()\n"
   ]
  },
  {
   "cell_type": "markdown",
   "id": "155e5cd9-150e-42ae-b601-164850a332df",
   "metadata": {},
   "source": [
    "### Without stopwords"
   ]
  },
  {
   "cell_type": "code",
   "execution_count": null,
   "id": "8ae98aa1-80b7-4b04-90b9-a66986c99fff",
   "metadata": {},
   "outputs": [],
   "source": [
    "bigramCountVect2 = CountVectorizer(analyzer='word', ngram_range=(2, 2),stop_words = Mystopwords)\n",
    "bigramCountVect2.fit(corpus);"
   ]
  },
  {
   "cell_type": "code",
   "execution_count": null,
   "id": "f5c82d19-ad36-42cc-9bb5-e80b145bae0e",
   "metadata": {},
   "outputs": [],
   "source": [
    "bagOfBigrams2 = bigramCountVect2.transform(corpus)\n",
    "sumBigrams2 = bagOfBigrams2.sum(axis=0)\n",
    "bigramsFreq2 = [(bigram, sumBigrams2[0, idx]) for bigram, idx in bigramCountVect2.vocabulary_.items()]\n",
    "bigramsFreq2 =sorted(bigramsFreq2, key = lambda x: x[1], reverse=True)"
   ]
  },
  {
   "cell_type": "code",
   "execution_count": null,
   "id": "8bb8868f-3656-494a-ba1c-f79a97820cd0",
   "metadata": {},
   "outputs": [],
   "source": [
    "yPos = np.arange(numberOfBigrams)\n",
    "objects = []\n",
    "performance = []\n",
    "for i in range(numberOfBigrams):\n",
    "    aux = bigramsFreq2[i]\n",
    "    objects.append(aux[0])\n",
    "    performance.append(aux[1])"
   ]
  },
  {
   "cell_type": "code",
   "execution_count": null,
   "id": "b380e325-1ed9-463d-94ec-6019d330d6b5",
   "metadata": {},
   "outputs": [],
   "source": [
    "pd.Series(performance, index = objects, name = \"Frequency\").to_frame()"
   ]
  },
  {
   "cell_type": "code",
   "execution_count": null,
   "id": "8339b202-6a68-4c5c-9b27-5adde1abde32",
   "metadata": {},
   "outputs": [],
   "source": [
    "plt.barh(yPos, performance, align='center', alpha=0.5)\n",
    "plt.yticks(yPos, objects)\n",
    "plt.xlabel('Frequency')\n",
    "plt.ylabel('Bigrams')\n",
    "plt.title('Bigrams Frequency without stop words')\n",
    "plt.show()"
   ]
  },
  {
   "cell_type": "markdown",
   "id": "1083be04-6169-4e9b-b2b4-76d2993f12b6",
   "metadata": {},
   "source": [
    "### bigrams cloud without stop words"
   ]
  },
  {
   "cell_type": "code",
   "execution_count": null,
   "id": "01aeaebf-d35b-4946-93b0-17b47c4cf651",
   "metadata": {},
   "outputs": [],
   "source": [
    "cloud = wordcloud.WordCloud(max_font_size=50, max_words=100, background_color=\"white\").generate_from_frequencies(dict(bigramsFreq2))\n",
    "plt.imshow(cloud, interpolation='bilinear')\n",
    "plt.axis(\"off\")\n",
    "plt.show()\n"
   ]
  },
  {
   "cell_type": "markdown",
   "id": "8998d718-b292-4040-b130-bc082223e6f6",
   "metadata": {},
   "source": [
    "## Trigram Frequency"
   ]
  },
  {
   "cell_type": "markdown",
   "id": "b2abdbcd-1b5c-4732-8167-085093c32ce7",
   "metadata": {},
   "source": [
    "### With stop words"
   ]
  },
  {
   "cell_type": "code",
   "execution_count": null,
   "id": "b7676bbf-03d5-480e-871f-f126b7c67926",
   "metadata": {},
   "outputs": [],
   "source": [
    "numberOfTrigrams = 20"
   ]
  },
  {
   "cell_type": "code",
   "execution_count": null,
   "id": "e567defe-fda5-4c03-a1c2-2c3dccf5fae1",
   "metadata": {},
   "outputs": [],
   "source": [
    "trigramCountVect = CountVectorizer(analyzer='word', ngram_range=(3, 3))\n",
    "trigramCountVect.fit(corpus);"
   ]
  },
  {
   "cell_type": "code",
   "execution_count": null,
   "id": "8475838f-b4b5-4ba0-bb29-ce2798e74380",
   "metadata": {},
   "outputs": [],
   "source": [
    "bagOfTrigrams = trigramCountVect.transform(corpus)\n",
    "sumTrigrams = bagOfTrigrams.sum(axis=0)\n",
    "trigramsFreq = [(trigram, sumTrigrams[0, idx]) for trigram, idx in trigramCountVect.vocabulary_.items()]\n",
    "trigramsFreq =sorted(trigramsFreq, key = lambda x: x[1], reverse=True)"
   ]
  },
  {
   "cell_type": "code",
   "execution_count": null,
   "id": "a3a081bf-d64a-40d1-8161-90f7dbf58338",
   "metadata": {},
   "outputs": [],
   "source": [
    "yPos = np.arange(numberOfTrigrams)\n",
    "objects = []\n",
    "performance = []\n",
    "for i in range(numberOfTrigrams):\n",
    "    aux = trigramsFreq[i]\n",
    "    objects.append(aux[0])\n",
    "    performance.append(aux[1])"
   ]
  },
  {
   "cell_type": "code",
   "execution_count": null,
   "id": "3eac03e2-e977-4903-9152-86c7bf942699",
   "metadata": {},
   "outputs": [],
   "source": [
    "pd.Series(performance, index = objects, name = \"Frequency\").to_frame()"
   ]
  },
  {
   "cell_type": "code",
   "execution_count": null,
   "id": "eb840721-5931-4f0b-830d-6c87b0f0776b",
   "metadata": {},
   "outputs": [],
   "source": [
    "plt.barh(yPos, performance, align='center', alpha=0.5)\n",
    "plt.yticks(yPos, objects)\n",
    "plt.xlabel('Frequency')\n",
    "plt.ylabel('Trigrams')\n",
    "plt.title('Trigrams Frequency with stop words')\n",
    "plt.show()"
   ]
  },
  {
   "cell_type": "markdown",
   "id": "d0b8cb1b-1648-44f7-a823-7213b7a09075",
   "metadata": {},
   "source": [
    "### Trigrams cloud with stop words"
   ]
  },
  {
   "cell_type": "code",
   "execution_count": null,
   "id": "16b227de-673e-48d9-97e5-46b394e630c2",
   "metadata": {},
   "outputs": [],
   "source": [
    "cloud = wordcloud.WordCloud(max_font_size=50, max_words=100, background_color=\"white\").generate_from_frequencies(dict(trigramsFreq))\n",
    "plt.imshow(cloud, interpolation='bilinear')\n",
    "plt.axis(\"off\")\n",
    "plt.show()"
   ]
  },
  {
   "cell_type": "markdown",
   "id": "a2e676d0-6515-4855-9436-160f76c01969",
   "metadata": {},
   "source": [
    "### Without stop words"
   ]
  },
  {
   "cell_type": "code",
   "execution_count": null,
   "id": "44651eab-ca9f-42a0-b006-4b9cc8c72b1d",
   "metadata": {},
   "outputs": [],
   "source": [
    "trigramCountVect2 = CountVectorizer(analyzer='word', ngram_range=(3, 3),stop_words = Mystopwords)\n",
    "trigramCountVect2.fit(corpus);"
   ]
  },
  {
   "cell_type": "code",
   "execution_count": null,
   "id": "0dbd02bd-45ae-4af0-9c05-3e2187074e00",
   "metadata": {},
   "outputs": [],
   "source": [
    "bagOfTrigrams2 = trigramCountVect2.transform(corpus)\n",
    "sumTrigrams2 = bagOfTrigrams2.sum(axis=0)\n",
    "trigramsFreq2 = [(trigram, sumTrigrams2[0, idx]) for trigram, idx in trigramCountVect2.vocabulary_.items()]\n",
    "trigramsFreq2 =sorted(trigramsFreq2, key = lambda x: x[1], reverse=True)"
   ]
  },
  {
   "cell_type": "code",
   "execution_count": null,
   "id": "4adda5e7-30b0-4c3e-9540-ac7c2ff9b74e",
   "metadata": {},
   "outputs": [],
   "source": [
    "yPos = np.arange(numberOfTrigrams)\n",
    "objects = []\n",
    "performance = []\n",
    "for i in range(numberOfTrigrams):\n",
    "    aux = trigramsFreq2[i]\n",
    "    objects.append(aux[0])\n",
    "    performance.append(aux[1])"
   ]
  },
  {
   "cell_type": "code",
   "execution_count": null,
   "id": "62ed3eb3-b39e-468c-ada3-85d8dc1e9825",
   "metadata": {},
   "outputs": [],
   "source": [
    "pd.Series(performance, index = objects, name = \"Frequency\").to_frame()"
   ]
  },
  {
   "cell_type": "code",
   "execution_count": null,
   "id": "f0abe771-c582-4800-a9b0-f56bfb458c50",
   "metadata": {},
   "outputs": [],
   "source": [
    "plt.barh(yPos, performance, align='center', alpha=0.5)\n",
    "plt.yticks(yPos, objects)\n",
    "plt.xlabel('Frequency')\n",
    "plt.ylabel('Trigrams')\n",
    "plt.title('Trigrams Frequency without stop words')\n",
    "plt.show()"
   ]
  },
  {
   "cell_type": "markdown",
   "id": "3a45470e-f0a0-4ee5-8fcc-f827cf19ff71",
   "metadata": {},
   "source": [
    "### Trigrams Cloud without stop words"
   ]
  },
  {
   "cell_type": "code",
   "execution_count": null,
   "id": "334d4e0e-2c48-45d1-a424-bb54a01d1d64",
   "metadata": {},
   "outputs": [],
   "source": [
    "cloud = wordcloud.WordCloud(max_font_size=50, max_words=100, background_color=\"white\").generate_from_frequencies(dict(trigramsFreq2))\n",
    "plt.imshow(cloud, interpolation='bilinear')\n",
    "plt.axis(\"off\")\n",
    "plt.show()"
   ]
  },
  {
   "cell_type": "markdown",
   "id": "dbe0c195-0757-443c-80e4-ea6883ae9481",
   "metadata": {},
   "source": [
    "# Parsing"
   ]
  },
  {
   "cell_type": "code",
   "execution_count": null,
   "id": "a7d69e6b-d9b7-40f7-ab4f-a4b501a4183a",
   "metadata": {},
   "outputs": [],
   "source": [
    "nlp = spacy.load('pt_core_news_sm')"
   ]
  },
  {
   "cell_type": "code",
   "execution_count": null,
   "id": "e3dba7f7-8424-4d46-b970-34a84b37b99f",
   "metadata": {},
   "outputs": [],
   "source": [
    "%%time\n",
    "text = []\n",
    "pos = []\n",
    "tag = []\n",
    "dep = []\n",
    "ent_text = []\n",
    "ent_label = []\n",
    "for ata in corpus:\n",
    "    doc = nlp(ata)\n",
    "    for token in doc:\n",
    "        text.append(token.text)\n",
    "        pos.append(token.pos_)\n",
    "        tag.append(str(token.morph))\n",
    "        dep.append(token.dep_)\n",
    "    for ent in doc.ents:\n",
    "        ent_text.append(ent.text)\n",
    "        ent_label.append(ent.label_)"
   ]
  },
  {
   "cell_type": "code",
   "execution_count": null,
   "id": "a6e9ec73-f3bc-444d-833b-ad1bbf39abad",
   "metadata": {},
   "outputs": [],
   "source": [
    "df = pd.DataFrame(list(zip(text, pos)), \n",
    "               columns =['word', 'pos'])"
   ]
  },
  {
   "cell_type": "markdown",
   "id": "20d8bc93-89e2-46c4-b478-0e9c04d5a932",
   "metadata": {},
   "source": [
    "## nouns"
   ]
  },
  {
   "cell_type": "code",
   "execution_count": null,
   "id": "e4448879-a1f9-4716-b9e0-2164b474e031",
   "metadata": {},
   "outputs": [],
   "source": [
    "df[ (df['pos'] == 'PROPN') | (df['pos'] == 'NOUN')].loc[:,'word'].value_counts()[:20].plot.bar(rot=45);"
   ]
  },
  {
   "cell_type": "markdown",
   "id": "4dd011c3-8dc1-400c-ac2f-5ea13cd448e1",
   "metadata": {},
   "source": [
    "## adjective "
   ]
  },
  {
   "cell_type": "code",
   "execution_count": null,
   "id": "5ef3bae9-97f0-477c-a69a-f3377338485e",
   "metadata": {},
   "outputs": [],
   "source": [
    "df[df['pos'] == 'ADJ'].loc[:,'word'].value_counts()[:20].plot.bar(rot=45);"
   ]
  },
  {
   "cell_type": "markdown",
   "id": "8ac5d44c-fd3b-4ac0-a22c-cd6cdf47cac2",
   "metadata": {},
   "source": [
    "## verb"
   ]
  },
  {
   "cell_type": "code",
   "execution_count": null,
   "id": "0deafb0c-fa4e-40eb-99f1-a3fa4601904c",
   "metadata": {},
   "outputs": [],
   "source": [
    "df[ (df['pos'] == 'AUX') | (df['pos'] == 'VERB')].loc[:,'word'].value_counts()[:20].plot.bar(rot=45);"
   ]
  },
  {
   "cell_type": "markdown",
   "id": "c47f5c88-2a43-46ce-8f35-75061a4f3f69",
   "metadata": {},
   "source": [
    "## adverb"
   ]
  },
  {
   "cell_type": "code",
   "execution_count": null,
   "id": "b36b5ace-a100-42aa-bc8b-57f7ab00eb63",
   "metadata": {},
   "outputs": [],
   "source": [
    "df[df['pos'] == 'ADV'].loc[:,'word'].value_counts()[:20].plot.bar(rot=45);"
   ]
  },
  {
   "cell_type": "markdown",
   "id": "436eb354-3598-4f94-a5eb-ebc7fb9d82eb",
   "metadata": {},
   "source": [
    "## conjunction"
   ]
  },
  {
   "cell_type": "code",
   "execution_count": null,
   "id": "b691a269-4a6d-4a5c-b341-b3ca9d7430e7",
   "metadata": {},
   "outputs": [],
   "source": [
    "df[ (df['pos'] == 'CONJ') | (df['pos'] == 'CCONJ') | (df['pos'] == 'SCONJ')].loc[:,'word'].value_counts()[:10].plot.bar(rot=45);"
   ]
  },
  {
   "cell_type": "markdown",
   "id": "a8f2a155-8051-4bf7-883f-4412a7c743c0",
   "metadata": {},
   "source": [
    "## punctuation"
   ]
  },
  {
   "cell_type": "code",
   "execution_count": null,
   "id": "39542929-98c9-4fd9-af8a-e96bfa3de524",
   "metadata": {},
   "outputs": [],
   "source": [
    "df[df['pos'] == 'PUNCT'].loc[:,'word'].value_counts()[:5].plot.bar(rot=45);"
   ]
  },
  {
   "cell_type": "markdown",
   "id": "3e912d57-fe41-421f-9eba-ae178cb1b9c5",
   "metadata": {},
   "source": [
    "## determiner"
   ]
  },
  {
   "cell_type": "code",
   "execution_count": null,
   "id": "d3a22a13-476e-4382-a15b-6a055bd67fd9",
   "metadata": {},
   "outputs": [],
   "source": [
    "df[df['pos'] == 'DET'].loc[:,'word'].value_counts()[:10].plot.bar(rot=45);"
   ]
  },
  {
   "cell_type": "markdown",
   "id": "52c5681e-583d-4703-84aa-41b2ca8cddea",
   "metadata": {},
   "source": [
    "## pronoun"
   ]
  },
  {
   "cell_type": "code",
   "execution_count": null,
   "id": "05f3ae93-7fcc-46cf-9fc4-f1aecb0633bd",
   "metadata": {},
   "outputs": [],
   "source": [
    "df[df['pos'] == 'PRON'].loc[:,'word'].value_counts()[:10].plot.bar(rot=45);"
   ]
  },
  {
   "cell_type": "markdown",
   "id": "b33aedab-ee30-433d-a97b-a110fd6df0f5",
   "metadata": {},
   "source": [
    "## numbers"
   ]
  },
  {
   "cell_type": "code",
   "execution_count": null,
   "id": "641f70c8-1846-49a5-a714-cfc6146b3c88",
   "metadata": {},
   "outputs": [],
   "source": [
    "df[df['pos'] == 'NUM'].loc[:,'word'].value_counts()[:10].plot.bar(rot=45);"
   ]
  },
  {
   "cell_type": "markdown",
   "id": "74ca9c47-8fa8-4515-b8fa-206ad1682455",
   "metadata": {},
   "source": [
    "## symbol"
   ]
  },
  {
   "cell_type": "code",
   "execution_count": null,
   "id": "d10e93c5-9fd0-474b-9ace-0d58e145ae0b",
   "metadata": {},
   "outputs": [],
   "source": [
    "df[df['pos'] == 'SYM'].loc[:,'word'].value_counts()[:5].plot.bar(rot=45);"
   ]
  },
  {
   "cell_type": "markdown",
   "id": "5e27854a-8a9d-4555-ab2c-c8f4be5bf554",
   "metadata": {},
   "source": [
    "## part-Of-Speech "
   ]
  },
  {
   "cell_type": "code",
   "execution_count": null,
   "id": "381802e6-9c02-41a2-bea4-19635222e8fb",
   "metadata": {},
   "outputs": [],
   "source": [
    "pos_ = Counter(pos)\n",
    "pos_ = {key: val for key, val in sorted(pos_.items(), key = lambda x: x[1], reverse = True)}\n",
    "plt.bar(range(len(pos_)), list(pos_.values()), align='center')\n",
    "plt.xticks(range(len(pos_)), list(pos_.keys()),rotation = 45)\n",
    "plt.show()"
   ]
  },
  {
   "cell_type": "markdown",
   "id": "c21f9856-5745-4586-b348-c059f008e3e6",
   "metadata": {},
   "source": [
    "## morphology tags"
   ]
  },
  {
   "cell_type": "code",
   "execution_count": null,
   "id": "d5ca18b7-2938-4664-beea-9820dc80a2b6",
   "metadata": {},
   "outputs": [],
   "source": [
    "tag_ = {key: val for key, val in Counter(tag).most_common(10)}\n",
    "plt.bar(range(len(tag_)), list(tag_.values()), align='center')\n",
    "plt.xticks(range(len(tag_)), list(tag_.keys()),rotation = 60)\n",
    "plt.show()"
   ]
  },
  {
   "cell_type": "markdown",
   "id": "6cc3a948-24f2-4547-aee9-ad310b982145",
   "metadata": {},
   "source": [
    "## dependencies"
   ]
  },
  {
   "cell_type": "code",
   "execution_count": null,
   "id": "0b04e2f6-3641-4225-82a3-ed35fcfdd7d4",
   "metadata": {},
   "outputs": [],
   "source": [
    "dep_ = Counter(dep)\n",
    "dep_ = {key: val for key, val in sorted(dep_.items(), key = lambda x: x[1], reverse = True)}\n",
    "plt.bar(range(len(dep_)), list(dep_.values()), align='center')\n",
    "plt.xticks(range(len(dep_)), list(dep_.keys()),rotation = 45)\n",
    "plt.show()"
   ]
  },
  {
   "cell_type": "markdown",
   "id": "ba52bf09-0ba8-4aef-b6c9-6d8591358a0f",
   "metadata": {},
   "source": [
    "## entities"
   ]
  },
  {
   "cell_type": "markdown",
   "id": "2a31a179-cc06-4c9c-9056-058c31ddc187",
   "metadata": {},
   "source": [
    "### texts"
   ]
  },
  {
   "cell_type": "code",
   "execution_count": null,
   "id": "c00f6c9d-b8a8-4aa6-8212-1f2c845f873d",
   "metadata": {},
   "outputs": [],
   "source": [
    "ent_ = {x : y for x, y in  Counter(ent_text).most_common(15)} \n",
    "plt.bar(range(len(ent_)), list(ent_.values()), align='center')\n",
    "plt.xticks(range(len(ent_)), list(ent_.keys()),rotation = 45)\n",
    "plt.show()"
   ]
  },
  {
   "cell_type": "markdown",
   "id": "069296ad-7ccf-4555-8444-c6230bf8595a",
   "metadata": {},
   "source": [
    "### labels"
   ]
  },
  {
   "cell_type": "code",
   "execution_count": null,
   "id": "2cf584c9-bb24-4d51-8269-cc9f88c37997",
   "metadata": {},
   "outputs": [],
   "source": [
    "ent_ = {x : y for x, y in  Counter(ent_label).most_common(5)} \n",
    "plt.bar(range(len(ent_)), list(ent_.values()), align='center')\n",
    "plt.xticks(range(len(ent_)), list(ent_.keys()),rotation = 45)\n",
    "plt.show()"
   ]
  }
 ],
 "metadata": {
  "kernelspec": {
   "display_name": "Python 3",
   "language": "python",
   "name": "python3"
  },
  "language_info": {
   "codemirror_mode": {
    "name": "ipython",
    "version": 3
   },
   "file_extension": ".py",
   "mimetype": "text/x-python",
   "name": "python",
   "nbconvert_exporter": "python",
   "pygments_lexer": "ipython3",
   "version": "3.10.7"
  }
 },
 "nbformat": 4,
 "nbformat_minor": 5
}
