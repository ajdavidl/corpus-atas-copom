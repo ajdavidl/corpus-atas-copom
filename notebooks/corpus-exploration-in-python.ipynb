{
 "cells": [
  {
   "cell_type": "code",
   "execution_count": null,
   "id": "1734e835-cd24-46c3-9543-4f31e6ac0113",
   "metadata": {},
   "outputs": [],
   "source": [
    "import re\n",
    "import nltk\n",
    "import spacy\n",
    "import os\n",
    "from sklearn.feature_extraction.text import CountVectorizer\n",
    "import matplotlib.pyplot as plt\n",
    "import numpy as np\n",
    "import pandas as pd\n",
    "import wordcloud\n",
    "from collections import Counter\n",
    "\n",
    "%matplotlib inline\n",
    "plt.rcParams[\"figure.figsize\"] = (15,8)"
   ]
  },
  {
   "cell_type": "code",
   "execution_count": null,
   "id": "fb994192-417b-44b1-a665-0ebdb5b74f66",
   "metadata": {},
   "outputs": [],
   "source": [
    "listAtas = os.listdir(\"../atas\")"
   ]
  },
  {
   "cell_type": "code",
   "execution_count": null,
   "id": "263eface-cc66-4a6e-a6f0-a7108fb02274",
   "metadata": {},
   "outputs": [],
   "source": [
    "corpus = []\n",
    "\n",
    "for ata in listAtas:\n",
    "    with open(\"../atas/\" + ata,'rt', encoding='utf-8') as f:\n",
    "        lines = f.readlines()\n",
    "        if lines: \n",
    "            lines = ' '.join(lines)\n",
    "            corpus.append(lines)\n",
    "\n",
    "print(len(corpus),\"atas\")"
   ]
  },
  {
   "cell_type": "markdown",
   "id": "4fd6aee9-c301-461a-893a-4fec616eafc2",
   "metadata": {},
   "source": [
    "# Corpus Characteristics "
   ]
  },
  {
   "cell_type": "code",
   "execution_count": null,
   "id": "1f88844f-c918-4a8b-a44a-649f4841405b",
   "metadata": {},
   "outputs": [],
   "source": [
    "%%time\n",
    "corpusJoined = ' '.join(corpus)\n",
    "corpusJoinedWithoutPunctuation =  re.sub(r'[^\\w\\s]','',corpusJoined)\n",
    "corupsWordTokenized = nltk.word_tokenize(corpusJoined)\n",
    "corupsWordTokenizedWithoutPunctuation = nltk.word_tokenize(corpusJoinedWithoutPunctuation)\n",
    "corpusJoinedWithoutSpaces = re.sub(' ','', corpusJoined)\n",
    "corpusSentences = nltk.tokenize.sent_tokenize(corpusJoined)"
   ]
  },
  {
   "cell_type": "code",
   "execution_count": null,
   "id": "a7d760e1-d520-4b79-9d72-c503f0f84f8a",
   "metadata": {},
   "outputs": [],
   "source": [
    "print(\"Number of characters with spaces: \", len(corpusJoined))\n",
    "print(\"Number of characters without spaces: \", len(corpusJoinedWithoutSpaces))\n",
    "print(\"Number of words: \",len(corupsWordTokenizedWithoutPunctuation))\n",
    "print(\"Number of sentences: \", len(corpusSentences))\n",
    "print(\"Number of characters per words: \", len(corpusJoinedWithoutSpaces)/len(corupsWordTokenizedWithoutPunctuation))\n",
    "print(\"Number of words per sentence: \", len(corupsWordTokenizedWithoutPunctuation)/len(corpusSentences))"
   ]
  },
  {
   "cell_type": "markdown",
   "id": "949e26d9-1486-4a33-b6cf-16707af28047",
   "metadata": {},
   "source": [
    "# Frequencies "
   ]
  },
  {
   "cell_type": "code",
   "execution_count": null,
   "id": "eebf7a73-2ad0-4162-94c6-2d1be856f6c0",
   "metadata": {},
   "outputs": [],
   "source": [
    "corpusJoined = corpusJoined.lower()\n",
    "for i in range(0,len(corpus)):\n",
    "    corpus[i]=corpus[i].lower()\n",
    "    corpus[i] = re.sub('\\n','',corpus[i]) #remove newline character"
   ]
  },
  {
   "cell_type": "code",
   "execution_count": null,
   "id": "45bb7762-891b-46b9-b394-0dc4f5ff84a9",
   "metadata": {},
   "outputs": [],
   "source": [
    "Mystopwords = ['ainda','ante','p','r','sobre'] + ['janeiro','fevereiro','março','abril','maio','junho','julho','agosto','setembro','outubro','novembro','dezembro','mês','meses','ano','anos'] + [str(i) for i in range(10)] + nltk.corpus.stopwords.words('portuguese')\n"
   ]
  },
  {
   "cell_type": "markdown",
   "id": "7e628204-6cee-41fb-bd18-a1a86ae42a65",
   "metadata": {
    "tags": []
   },
   "source": [
    "## Character frequency "
   ]
  },
  {
   "cell_type": "code",
   "execution_count": null,
   "id": "fffc3c05-d5d5-48b6-9fa3-085e07b1b525",
   "metadata": {},
   "outputs": [],
   "source": [
    "charCountVect = CountVectorizer(analyzer='char')\n",
    "charCountVect.fit(corpus);"
   ]
  },
  {
   "cell_type": "code",
   "execution_count": null,
   "id": "91cbee9f-ba94-4e1e-828f-99634143ce25",
   "metadata": {},
   "outputs": [],
   "source": [
    "bagOfChar = charCountVect.transform(corpus)\n",
    "sumChars = bagOfChar.sum(axis=0)\n",
    "charsFreq = [(char, sumChars[0, idx]) for char, idx in charCountVect.vocabulary_.items()]\n",
    "charsFreq =sorted(charsFreq, key = lambda x: x[1], reverse=True)"
   ]
  },
  {
   "cell_type": "code",
   "execution_count": null,
   "id": "c73ddada-deed-4117-af09-65eddc317ed3",
   "metadata": {},
   "outputs": [],
   "source": [
    "numberOfChars = 20\n",
    "yPos = np.arange(numberOfChars)\n",
    "objects = []\n",
    "performance = []\n",
    "for i in range(numberOfChars):\n",
    "    aux = charsFreq[i]\n",
    "    objects.append(aux[0])\n",
    "    performance.append(aux[1])"
   ]
  },
  {
   "cell_type": "code",
   "execution_count": null,
   "id": "147e3cef-f562-4cec-889e-2d8a4a76a65d",
   "metadata": {},
   "outputs": [],
   "source": [
    "#horizontal bars\n",
    "plt.barh(yPos, performance, align='center', alpha=0.5)\n",
    "plt.yticks(yPos, objects)\n",
    "plt.xlabel('Frequency')\n",
    "plt.ylabel('Characters')\n",
    "plt.title('Character Frequency')\n",
    "plt.show()\n"
   ]
  },
  {
   "cell_type": "markdown",
   "id": "d8a3dea1-a055-489e-9b96-5c5ce67b86cc",
   "metadata": {},
   "source": [
    "## Word Frequency"
   ]
  },
  {
   "cell_type": "code",
   "execution_count": null,
   "id": "f234156e-1176-4e5a-b407-b4ee986a90ae",
   "metadata": {},
   "outputs": [],
   "source": [
    "def frequencyPlot(listText, number_of_words=20, stopwords=None, ngramRange=(1, 1), vocabulary=None):\n",
    "    count_vect = CountVectorizer(\n",
    "        analyzer='word',\n",
    "        stop_words=stopwords,\n",
    "        ngram_range=ngramRange,\n",
    "        vocabulary=vocabulary\n",
    "    )\n",
    "    count_vect.fit(listText)\n",
    "    bag_of_words = count_vect.transform(listText)\n",
    "    sum_words = bag_of_words.sum(axis=0)\n",
    "    word_freq = [(word, sum_words[0, idx])\n",
    "                 for word, idx in count_vect.vocabulary_.items()]\n",
    "    word_freq = sorted(word_freq, key=lambda x: x[1], reverse=True)\n",
    "    y_pos = np.arange(number_of_words)\n",
    "    objects = []\n",
    "    performance = []\n",
    "    for i in range(number_of_words):\n",
    "        aux = word_freq[i]\n",
    "        objects.append(aux[0])\n",
    "        performance.append(aux[1])\n",
    "    plt.barh(yPos, performance, align='center', alpha=0.5)\n",
    "    plt.yticks(yPos, objects)\n",
    "    plt.xlabel('Frequency')\n",
    "    plt.ylabel('Tokens')\n",
    "    plt.title('Frequency of tokens')\n",
    "    plt.show()\n"
   ]
  },
  {
   "cell_type": "code",
   "execution_count": null,
   "id": "ec1cb18e-ab9e-4a7f-abae-9f27414aab40",
   "metadata": {},
   "outputs": [],
   "source": [
    "def wordcloudPlot(text, stopwords=None, max_font_size=50, max_words=100, background_color=\"white\"):\n",
    "    cloud = wordcloud.WordCloud(stopwords=stopwords, max_font_size=max_font_size,\n",
    "                                max_words=max_words, background_color=background_color).generate(text.lower())\n",
    "\n",
    "    # Display the generated image:\n",
    "    plt.imshow(cloud, interpolation='bilinear')\n",
    "    plt.axis(\"off\")\n",
    "    plt.show()"
   ]
  },
  {
   "cell_type": "code",
   "execution_count": null,
   "id": "7e08502c-cf8f-4bc6-9b6c-e81dac141033",
   "metadata": {},
   "outputs": [],
   "source": [
    "# number of words in the barplots\n",
    "numberOfWords = 20"
   ]
  },
  {
   "cell_type": "markdown",
   "id": "68f3c3fe-f821-4aef-9916-e170fc86b773",
   "metadata": {},
   "source": [
    "### With stop words"
   ]
  },
  {
   "cell_type": "code",
   "execution_count": null,
   "id": "443b0a47-638e-44c3-9f0c-d2caccb432c1",
   "metadata": {},
   "outputs": [],
   "source": [
    "frequencyPlot(corpus, numberOfWords, stopwords=None, ngramRange=(1, 1))"
   ]
  },
  {
   "cell_type": "markdown",
   "id": "d880af9c-250f-402b-b31b-3ddbd18d61f9",
   "metadata": {},
   "source": [
    "### Wordcloud with stop words"
   ]
  },
  {
   "cell_type": "code",
   "execution_count": null,
   "id": "7bf5d5de-9b2c-4083-8df5-5b9bb8ac964f",
   "metadata": {},
   "outputs": [],
   "source": [
    "wordcloudPlot(corpusJoined, stopwords=None)"
   ]
  },
  {
   "cell_type": "markdown",
   "id": "82c161e9-5af5-4b76-992e-45249c0c0394",
   "metadata": {},
   "source": [
    "### Without stop words"
   ]
  },
  {
   "cell_type": "code",
   "execution_count": null,
   "id": "509fc1c7-a87b-4746-9c2f-86cfc682ef7a",
   "metadata": {},
   "outputs": [],
   "source": [
    "frequencyPlot(corpus, numberOfWords, stopwords=Mystopwords, ngramRange=(1, 1))"
   ]
  },
  {
   "cell_type": "markdown",
   "id": "8ef32c62-c716-4aee-a5bb-2e6c29573896",
   "metadata": {},
   "source": [
    "### Wordcloud without stop words"
   ]
  },
  {
   "cell_type": "code",
   "execution_count": null,
   "id": "3ec1a082-a119-4eb8-ae75-1bd4df0a41ab",
   "metadata": {},
   "outputs": [],
   "source": [
    "wordcloudPlot(corpusJoined, stopwords=Mystopwords)"
   ]
  },
  {
   "cell_type": "markdown",
   "id": "1fdde76d-da81-4234-96e6-a9bb3d51dc20",
   "metadata": {},
   "source": [
    "## Bigram Frequency\n",
    " "
   ]
  },
  {
   "cell_type": "markdown",
   "id": "4b374e27-971b-46cb-89b1-bb729d968410",
   "metadata": {},
   "source": [
    "### With stop words"
   ]
  },
  {
   "cell_type": "code",
   "execution_count": null,
   "id": "5153df2c-19a0-41a2-af52-daa43ac8138d",
   "metadata": {},
   "outputs": [],
   "source": [
    "frequencyPlot(corpus, numberOfWords, stopwords=None, ngramRange=(2, 2))"
   ]
  },
  {
   "cell_type": "markdown",
   "id": "155e5cd9-150e-42ae-b601-164850a332df",
   "metadata": {},
   "source": [
    "### Without stopwords"
   ]
  },
  {
   "cell_type": "code",
   "execution_count": null,
   "id": "269ac04b-d6fc-4a99-b403-40254fefee62",
   "metadata": {},
   "outputs": [],
   "source": [
    "frequencyPlot(corpus, numberOfWords, stopwords=Mystopwords, ngramRange=(2, 2))"
   ]
  },
  {
   "cell_type": "markdown",
   "id": "8998d718-b292-4040-b130-bc082223e6f6",
   "metadata": {},
   "source": [
    "## Trigram Frequency"
   ]
  },
  {
   "cell_type": "markdown",
   "id": "b2abdbcd-1b5c-4732-8167-085093c32ce7",
   "metadata": {},
   "source": [
    "### With stop words"
   ]
  },
  {
   "cell_type": "code",
   "execution_count": null,
   "id": "33ba71b7-57ac-4f83-a3d5-cf7320d27c37",
   "metadata": {},
   "outputs": [],
   "source": [
    "frequencyPlot(corpus, numberOfWords, stopwords=None, ngramRange=(3, 3))"
   ]
  },
  {
   "cell_type": "markdown",
   "id": "a2e676d0-6515-4855-9436-160f76c01969",
   "metadata": {},
   "source": [
    "### Without stop words"
   ]
  },
  {
   "cell_type": "code",
   "execution_count": null,
   "id": "9ce2d868-eceb-4581-a157-a2a72ad162f6",
   "metadata": {},
   "outputs": [],
   "source": [
    "frequencyPlot(corpus, numberOfWords, stopwords=Mystopwords, ngramRange=(3, 3))"
   ]
  },
  {
   "cell_type": "markdown",
   "id": "dbe0c195-0757-443c-80e4-ea6883ae9481",
   "metadata": {},
   "source": [
    "# Parsing"
   ]
  },
  {
   "cell_type": "code",
   "execution_count": null,
   "id": "a7d69e6b-d9b7-40f7-ab4f-a4b501a4183a",
   "metadata": {},
   "outputs": [],
   "source": [
    "nlp = spacy.load('pt_core_news_sm')"
   ]
  },
  {
   "cell_type": "code",
   "execution_count": null,
   "id": "e3dba7f7-8424-4d46-b970-34a84b37b99f",
   "metadata": {},
   "outputs": [],
   "source": [
    "%%time\n",
    "text = []\n",
    "pos = []\n",
    "tag = []\n",
    "dep = []\n",
    "ent_text = []\n",
    "ent_label = []\n",
    "for ata in corpus:\n",
    "    doc = nlp(ata)\n",
    "    for token in doc:\n",
    "        text.append(token.text)\n",
    "        pos.append(token.pos_)\n",
    "        tag.append(str(token.morph))\n",
    "        dep.append(token.dep_)\n",
    "    for ent in doc.ents:\n",
    "        ent_text.append(ent.text)\n",
    "        ent_label.append(ent.label_)"
   ]
  },
  {
   "cell_type": "code",
   "execution_count": null,
   "id": "a6e9ec73-f3bc-444d-833b-ad1bbf39abad",
   "metadata": {},
   "outputs": [],
   "source": [
    "df = pd.DataFrame(list(zip(text, pos)), \n",
    "               columns =['word', 'pos'])"
   ]
  },
  {
   "cell_type": "markdown",
   "id": "20d8bc93-89e2-46c4-b478-0e9c04d5a932",
   "metadata": {},
   "source": [
    "## nouns"
   ]
  },
  {
   "cell_type": "code",
   "execution_count": null,
   "id": "e4448879-a1f9-4716-b9e0-2164b474e031",
   "metadata": {},
   "outputs": [],
   "source": [
    "df[ (df['pos'] == 'PROPN') | (df['pos'] == 'NOUN')].loc[:,'word'].value_counts()[:20].plot.bar(rot=45);"
   ]
  },
  {
   "cell_type": "markdown",
   "id": "4dd011c3-8dc1-400c-ac2f-5ea13cd448e1",
   "metadata": {},
   "source": [
    "## adjective "
   ]
  },
  {
   "cell_type": "code",
   "execution_count": null,
   "id": "5ef3bae9-97f0-477c-a69a-f3377338485e",
   "metadata": {},
   "outputs": [],
   "source": [
    "df[df['pos'] == 'ADJ'].loc[:,'word'].value_counts()[:20].plot.bar(rot=45);"
   ]
  },
  {
   "cell_type": "markdown",
   "id": "8ac5d44c-fd3b-4ac0-a22c-cd6cdf47cac2",
   "metadata": {},
   "source": [
    "## verb"
   ]
  },
  {
   "cell_type": "code",
   "execution_count": null,
   "id": "0deafb0c-fa4e-40eb-99f1-a3fa4601904c",
   "metadata": {},
   "outputs": [],
   "source": [
    "df[ (df['pos'] == 'AUX') | (df['pos'] == 'VERB')].loc[:,'word'].value_counts()[:20].plot.bar(rot=45);"
   ]
  },
  {
   "cell_type": "markdown",
   "id": "c47f5c88-2a43-46ce-8f35-75061a4f3f69",
   "metadata": {},
   "source": [
    "## adverb"
   ]
  },
  {
   "cell_type": "code",
   "execution_count": null,
   "id": "b36b5ace-a100-42aa-bc8b-57f7ab00eb63",
   "metadata": {},
   "outputs": [],
   "source": [
    "df[df['pos'] == 'ADV'].loc[:,'word'].value_counts()[:20].plot.bar(rot=45);"
   ]
  },
  {
   "cell_type": "markdown",
   "id": "436eb354-3598-4f94-a5eb-ebc7fb9d82eb",
   "metadata": {},
   "source": [
    "## conjunction"
   ]
  },
  {
   "cell_type": "code",
   "execution_count": null,
   "id": "b691a269-4a6d-4a5c-b341-b3ca9d7430e7",
   "metadata": {},
   "outputs": [],
   "source": [
    "df[ (df['pos'] == 'CONJ') | (df['pos'] == 'CCONJ') | (df['pos'] == 'SCONJ')].loc[:,'word'].value_counts()[:10].plot.bar(rot=45);"
   ]
  },
  {
   "cell_type": "markdown",
   "id": "a8f2a155-8051-4bf7-883f-4412a7c743c0",
   "metadata": {},
   "source": [
    "## punctuation"
   ]
  },
  {
   "cell_type": "code",
   "execution_count": null,
   "id": "39542929-98c9-4fd9-af8a-e96bfa3de524",
   "metadata": {},
   "outputs": [],
   "source": [
    "df[df['pos'] == 'PUNCT'].loc[:,'word'].value_counts()[:5].plot.bar(rot=45);"
   ]
  },
  {
   "cell_type": "markdown",
   "id": "3e912d57-fe41-421f-9eba-ae178cb1b9c5",
   "metadata": {},
   "source": [
    "## determiner"
   ]
  },
  {
   "cell_type": "code",
   "execution_count": null,
   "id": "d3a22a13-476e-4382-a15b-6a055bd67fd9",
   "metadata": {},
   "outputs": [],
   "source": [
    "df[df['pos'] == 'DET'].loc[:,'word'].value_counts()[:10].plot.bar(rot=45);"
   ]
  },
  {
   "cell_type": "markdown",
   "id": "52c5681e-583d-4703-84aa-41b2ca8cddea",
   "metadata": {},
   "source": [
    "## pronoun"
   ]
  },
  {
   "cell_type": "code",
   "execution_count": null,
   "id": "05f3ae93-7fcc-46cf-9fc4-f1aecb0633bd",
   "metadata": {},
   "outputs": [],
   "source": [
    "df[df['pos'] == 'PRON'].loc[:,'word'].value_counts()[:10].plot.bar(rot=45);"
   ]
  },
  {
   "cell_type": "markdown",
   "id": "b33aedab-ee30-433d-a97b-a110fd6df0f5",
   "metadata": {},
   "source": [
    "## numbers"
   ]
  },
  {
   "cell_type": "code",
   "execution_count": null,
   "id": "641f70c8-1846-49a5-a714-cfc6146b3c88",
   "metadata": {},
   "outputs": [],
   "source": [
    "df[df['pos'] == 'NUM'].loc[:,'word'].value_counts()[:10].plot.bar(rot=45);"
   ]
  },
  {
   "cell_type": "markdown",
   "id": "74ca9c47-8fa8-4515-b8fa-206ad1682455",
   "metadata": {},
   "source": [
    "## symbol"
   ]
  },
  {
   "cell_type": "code",
   "execution_count": null,
   "id": "d10e93c5-9fd0-474b-9ace-0d58e145ae0b",
   "metadata": {},
   "outputs": [],
   "source": [
    "df[df['pos'] == 'SYM'].loc[:,'word'].value_counts()[:5].plot.bar(rot=45);"
   ]
  },
  {
   "cell_type": "markdown",
   "id": "5e27854a-8a9d-4555-ab2c-c8f4be5bf554",
   "metadata": {},
   "source": [
    "## part-Of-Speech "
   ]
  },
  {
   "cell_type": "code",
   "execution_count": null,
   "id": "381802e6-9c02-41a2-bea4-19635222e8fb",
   "metadata": {},
   "outputs": [],
   "source": [
    "pos_ = Counter(pos)\n",
    "pos_ = {key: val for key, val in sorted(pos_.items(), key = lambda x: x[1], reverse = True)}\n",
    "plt.bar(range(len(pos_)), list(pos_.values()), align='center')\n",
    "plt.xticks(range(len(pos_)), list(pos_.keys()),rotation = 45)\n",
    "plt.show()"
   ]
  },
  {
   "cell_type": "markdown",
   "id": "c21f9856-5745-4586-b348-c059f008e3e6",
   "metadata": {},
   "source": [
    "## morphology tags"
   ]
  },
  {
   "cell_type": "code",
   "execution_count": null,
   "id": "d5ca18b7-2938-4664-beea-9820dc80a2b6",
   "metadata": {},
   "outputs": [],
   "source": [
    "tag_ = {key: val for key, val in Counter(tag).most_common(10)}\n",
    "plt.bar(range(len(tag_)), list(tag_.values()), align='center')\n",
    "plt.xticks(range(len(tag_)), list(tag_.keys()),rotation = 60)\n",
    "plt.show()"
   ]
  },
  {
   "cell_type": "markdown",
   "id": "6cc3a948-24f2-4547-aee9-ad310b982145",
   "metadata": {},
   "source": [
    "## dependencies"
   ]
  },
  {
   "cell_type": "code",
   "execution_count": null,
   "id": "0b04e2f6-3641-4225-82a3-ed35fcfdd7d4",
   "metadata": {},
   "outputs": [],
   "source": [
    "dep_ = Counter(dep)\n",
    "dep_ = {key: val for key, val in sorted(dep_.items(), key = lambda x: x[1], reverse = True)}\n",
    "plt.bar(range(len(dep_)), list(dep_.values()), align='center')\n",
    "plt.xticks(range(len(dep_)), list(dep_.keys()),rotation = 45)\n",
    "plt.show()"
   ]
  },
  {
   "cell_type": "markdown",
   "id": "ba52bf09-0ba8-4aef-b6c9-6d8591358a0f",
   "metadata": {},
   "source": [
    "## entities"
   ]
  },
  {
   "cell_type": "markdown",
   "id": "2a31a179-cc06-4c9c-9056-058c31ddc187",
   "metadata": {},
   "source": [
    "### texts"
   ]
  },
  {
   "cell_type": "code",
   "execution_count": null,
   "id": "c00f6c9d-b8a8-4aa6-8212-1f2c845f873d",
   "metadata": {},
   "outputs": [],
   "source": [
    "ent_ = {x : y for x, y in  Counter(ent_text).most_common(15)} \n",
    "plt.bar(range(len(ent_)), list(ent_.values()), align='center')\n",
    "plt.xticks(range(len(ent_)), list(ent_.keys()),rotation = 45)\n",
    "plt.show()"
   ]
  },
  {
   "cell_type": "markdown",
   "id": "069296ad-7ccf-4555-8444-c6230bf8595a",
   "metadata": {},
   "source": [
    "### labels"
   ]
  },
  {
   "cell_type": "code",
   "execution_count": null,
   "id": "2cf584c9-bb24-4d51-8269-cc9f88c37997",
   "metadata": {},
   "outputs": [],
   "source": [
    "ent_ = {x : y for x, y in  Counter(ent_label).most_common(5)} \n",
    "plt.bar(range(len(ent_)), list(ent_.values()), align='center')\n",
    "plt.xticks(range(len(ent_)), list(ent_.keys()),rotation = 45)\n",
    "plt.show()"
   ]
  }
 ],
 "metadata": {
  "kernelspec": {
   "display_name": "Python 3",
   "language": "python",
   "name": "python3"
  },
  "language_info": {
   "codemirror_mode": {
    "name": "ipython",
    "version": 3
   },
   "file_extension": ".py",
   "mimetype": "text/x-python",
   "name": "python",
   "nbconvert_exporter": "python",
   "pygments_lexer": "ipython3",
   "version": "3.10.8"
  }
 },
 "nbformat": 4,
 "nbformat_minor": 5
}
